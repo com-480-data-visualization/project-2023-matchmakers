{
 "cells": [
  {
   "cell_type": "code",
   "execution_count": 1,
   "id": "979abf35",
   "metadata": {},
   "outputs": [],
   "source": [
    "import pandas as pd\n",
    "import seaborn as sns\n",
    "import matplotlib.pyplot as plt"
   ]
  },
  {
   "cell_type": "code",
   "execution_count": 2,
   "id": "dc8de369",
   "metadata": {},
   "outputs": [],
   "source": [
    "data = pd.read_csv('data/cleaned.csv')"
   ]
  },
  {
   "cell_type": "code",
   "execution_count": 3,
   "id": "d33a8bc4",
   "metadata": {},
   "outputs": [
    {
     "data": {
      "text/plain": [
       "5895"
      ]
     },
     "execution_count": 3,
     "metadata": {},
     "output_type": "execute_result"
    }
   ],
   "source": [
    "len(data)"
   ]
  },
  {
   "cell_type": "code",
   "execution_count": 4,
   "id": "b0b12427",
   "metadata": {},
   "outputs": [
    {
     "data": {
      "text/html": [
       "<div>\n",
       "<style scoped>\n",
       "    .dataframe tbody tr th:only-of-type {\n",
       "        vertical-align: middle;\n",
       "    }\n",
       "\n",
       "    .dataframe tbody tr th {\n",
       "        vertical-align: top;\n",
       "    }\n",
       "\n",
       "    .dataframe thead th {\n",
       "        text-align: right;\n",
       "    }\n",
       "</style>\n",
       "<table border=\"1\" class=\"dataframe\">\n",
       "  <thead>\n",
       "    <tr style=\"text-align: right;\">\n",
       "      <th></th>\n",
       "      <th>Unnamed: 0</th>\n",
       "      <th>wave</th>\n",
       "      <th>gender</th>\n",
       "      <th>age</th>\n",
       "      <th>age_o</th>\n",
       "      <th>race</th>\n",
       "      <th>race_o</th>\n",
       "      <th>samerace</th>\n",
       "      <th>importance_same_race</th>\n",
       "      <th>importance_same_religion</th>\n",
       "      <th>...</th>\n",
       "      <th>yoga</th>\n",
       "      <th>interests_correlate</th>\n",
       "      <th>expected_happy_with_sd_people</th>\n",
       "      <th>expected_num_matches</th>\n",
       "      <th>like</th>\n",
       "      <th>met</th>\n",
       "      <th>decision</th>\n",
       "      <th>decision_o</th>\n",
       "      <th>match</th>\n",
       "      <th>id_col</th>\n",
       "    </tr>\n",
       "  </thead>\n",
       "  <tbody>\n",
       "    <tr>\n",
       "      <th>0</th>\n",
       "      <td>74</td>\n",
       "      <td>1.0</td>\n",
       "      <td>female</td>\n",
       "      <td>25.0</td>\n",
       "      <td>24.0</td>\n",
       "      <td>European/Caucasian-American</td>\n",
       "      <td>Latino/Hispanic American</td>\n",
       "      <td>0</td>\n",
       "      <td>1.0</td>\n",
       "      <td>1.0</td>\n",
       "      <td>...</td>\n",
       "      <td>6.0</td>\n",
       "      <td>-0.23</td>\n",
       "      <td>6.0</td>\n",
       "      <td>-1.0</td>\n",
       "      <td>6.0</td>\n",
       "      <td>0.0</td>\n",
       "      <td>b'1'</td>\n",
       "      <td>b'1'</td>\n",
       "      <td>1</td>\n",
       "      <td>74</td>\n",
       "    </tr>\n",
       "    <tr>\n",
       "      <th>1</th>\n",
       "      <td>75</td>\n",
       "      <td>1.0</td>\n",
       "      <td>female</td>\n",
       "      <td>25.0</td>\n",
       "      <td>25.0</td>\n",
       "      <td>European/Caucasian-American</td>\n",
       "      <td>European/Caucasian-American</td>\n",
       "      <td>1</td>\n",
       "      <td>1.0</td>\n",
       "      <td>1.0</td>\n",
       "      <td>...</td>\n",
       "      <td>6.0</td>\n",
       "      <td>0.28</td>\n",
       "      <td>6.0</td>\n",
       "      <td>-1.0</td>\n",
       "      <td>6.0</td>\n",
       "      <td>0.0</td>\n",
       "      <td>b'1'</td>\n",
       "      <td>b'1'</td>\n",
       "      <td>1</td>\n",
       "      <td>74</td>\n",
       "    </tr>\n",
       "    <tr>\n",
       "      <th>2</th>\n",
       "      <td>76</td>\n",
       "      <td>1.0</td>\n",
       "      <td>female</td>\n",
       "      <td>25.0</td>\n",
       "      <td>30.0</td>\n",
       "      <td>European/Caucasian-American</td>\n",
       "      <td>European/Caucasian-American</td>\n",
       "      <td>1</td>\n",
       "      <td>1.0</td>\n",
       "      <td>1.0</td>\n",
       "      <td>...</td>\n",
       "      <td>6.0</td>\n",
       "      <td>0.05</td>\n",
       "      <td>6.0</td>\n",
       "      <td>-1.0</td>\n",
       "      <td>6.0</td>\n",
       "      <td>0.0</td>\n",
       "      <td>b'1'</td>\n",
       "      <td>b'0'</td>\n",
       "      <td>0</td>\n",
       "      <td>74</td>\n",
       "    </tr>\n",
       "    <tr>\n",
       "      <th>3</th>\n",
       "      <td>77</td>\n",
       "      <td>1.0</td>\n",
       "      <td>female</td>\n",
       "      <td>25.0</td>\n",
       "      <td>27.0</td>\n",
       "      <td>European/Caucasian-American</td>\n",
       "      <td>European/Caucasian-American</td>\n",
       "      <td>1</td>\n",
       "      <td>1.0</td>\n",
       "      <td>1.0</td>\n",
       "      <td>...</td>\n",
       "      <td>6.0</td>\n",
       "      <td>0.17</td>\n",
       "      <td>6.0</td>\n",
       "      <td>-1.0</td>\n",
       "      <td>5.0</td>\n",
       "      <td>0.0</td>\n",
       "      <td>b'1'</td>\n",
       "      <td>b'1'</td>\n",
       "      <td>1</td>\n",
       "      <td>74</td>\n",
       "    </tr>\n",
       "    <tr>\n",
       "      <th>4</th>\n",
       "      <td>78</td>\n",
       "      <td>1.0</td>\n",
       "      <td>female</td>\n",
       "      <td>25.0</td>\n",
       "      <td>28.0</td>\n",
       "      <td>European/Caucasian-American</td>\n",
       "      <td>European/Caucasian-American</td>\n",
       "      <td>1</td>\n",
       "      <td>1.0</td>\n",
       "      <td>1.0</td>\n",
       "      <td>...</td>\n",
       "      <td>6.0</td>\n",
       "      <td>-0.47</td>\n",
       "      <td>6.0</td>\n",
       "      <td>-1.0</td>\n",
       "      <td>7.0</td>\n",
       "      <td>0.0</td>\n",
       "      <td>b'1'</td>\n",
       "      <td>b'1'</td>\n",
       "      <td>1</td>\n",
       "      <td>74</td>\n",
       "    </tr>\n",
       "  </tbody>\n",
       "</table>\n",
       "<p>5 rows × 66 columns</p>\n",
       "</div>"
      ],
      "text/plain": [
       "   Unnamed: 0  wave  gender   age  age_o                         race  \\\n",
       "0          74   1.0  female  25.0   24.0  European/Caucasian-American   \n",
       "1          75   1.0  female  25.0   25.0  European/Caucasian-American   \n",
       "2          76   1.0  female  25.0   30.0  European/Caucasian-American   \n",
       "3          77   1.0  female  25.0   27.0  European/Caucasian-American   \n",
       "4          78   1.0  female  25.0   28.0  European/Caucasian-American   \n",
       "\n",
       "                        race_o  samerace  importance_same_race  \\\n",
       "0     Latino/Hispanic American         0                   1.0   \n",
       "1  European/Caucasian-American         1                   1.0   \n",
       "2  European/Caucasian-American         1                   1.0   \n",
       "3  European/Caucasian-American         1                   1.0   \n",
       "4  European/Caucasian-American         1                   1.0   \n",
       "\n",
       "   importance_same_religion  ... yoga  interests_correlate  \\\n",
       "0                       1.0  ...  6.0                -0.23   \n",
       "1                       1.0  ...  6.0                 0.28   \n",
       "2                       1.0  ...  6.0                 0.05   \n",
       "3                       1.0  ...  6.0                 0.17   \n",
       "4                       1.0  ...  6.0                -0.47   \n",
       "\n",
       "   expected_happy_with_sd_people  expected_num_matches  like  met  decision  \\\n",
       "0                            6.0                  -1.0   6.0  0.0      b'1'   \n",
       "1                            6.0                  -1.0   6.0  0.0      b'1'   \n",
       "2                            6.0                  -1.0   6.0  0.0      b'1'   \n",
       "3                            6.0                  -1.0   5.0  0.0      b'1'   \n",
       "4                            6.0                  -1.0   7.0  0.0      b'1'   \n",
       "\n",
       "   decision_o  match  id_col  \n",
       "0        b'1'      1      74  \n",
       "1        b'1'      1      74  \n",
       "2        b'0'      0      74  \n",
       "3        b'1'      1      74  \n",
       "4        b'1'      1      74  \n",
       "\n",
       "[5 rows x 66 columns]"
      ]
     },
     "execution_count": 4,
     "metadata": {},
     "output_type": "execute_result"
    }
   ],
   "source": [
    "data.head()"
   ]
  },
  {
   "cell_type": "code",
   "execution_count": 5,
   "id": "f7a9b4e0",
   "metadata": {},
   "outputs": [
    {
     "data": {
      "text/plain": [
       "Index(['Unnamed: 0', 'wave', 'gender', 'age', 'age_o', 'race', 'race_o',\n",
       "       'samerace', 'importance_same_race', 'importance_same_religion', 'field',\n",
       "       'pref_o_attractive', 'pref_o_sincere', 'pref_o_intelligence',\n",
       "       'pref_o_funny', 'pref_o_ambitious', 'pref_o_shared_interests',\n",
       "       'attractive_o', 'sinsere_o', 'intelligence_o', 'funny_o', 'ambitous_o',\n",
       "       'shared_interests_o', 'attractive_important', 'sincere_important',\n",
       "       'intellicence_important', 'funny_important', 'ambtition_important',\n",
       "       'shared_interests_important', 'attractive', 'sincere', 'intelligence',\n",
       "       'funny', 'ambition', 'attractive_partner', 'sincere_partner',\n",
       "       'intelligence_partner', 'funny_partner', 'ambition_partner',\n",
       "       'shared_interests_partner', 'sports', 'tvsports', 'exercise', 'dining',\n",
       "       'museums', 'art', 'hiking', 'gaming', 'clubbing', 'reading', 'tv',\n",
       "       'theater', 'movies', 'concerts', 'music', 'shopping', 'yoga',\n",
       "       'interests_correlate', 'expected_happy_with_sd_people',\n",
       "       'expected_num_matches', 'like', 'met', 'decision', 'decision_o',\n",
       "       'match', 'id_col'],\n",
       "      dtype='object')"
      ]
     },
     "execution_count": 5,
     "metadata": {},
     "output_type": "execute_result"
    }
   ],
   "source": [
    "data.columns"
   ]
  },
  {
   "cell_type": "code",
   "execution_count": 17,
   "id": "6ed93b39",
   "metadata": {},
   "outputs": [],
   "source": [
    "profiles = pd.read_csv('data/profiles.csv')"
   ]
  },
  {
   "cell_type": "code",
   "execution_count": 7,
   "id": "03bbb2f4",
   "metadata": {},
   "outputs": [],
   "source": [
    "matchedf = data.loc[:, ['sports', 'tvsports', 'exercise', 'dining',\n",
    "       'museums', 'art', 'hiking', 'gaming', 'clubbing', 'reading', 'tv',\n",
    "       'theater', 'movies', 'concerts', 'music', 'shopping', 'yoga', 'match']]"
   ]
  },
  {
   "cell_type": "code",
   "execution_count": 18,
   "id": "8431a035",
   "metadata": {},
   "outputs": [],
   "source": [
    "people = pd.read_csv('data/people.csv')"
   ]
  },
  {
   "cell_type": "code",
   "execution_count": 19,
   "id": "da4bdc5d",
   "metadata": {},
   "outputs": [],
   "source": [
    "women_idx = people[people.gender=='female'].index\n",
    "men_idx = people[people.gender=='male'].index"
   ]
  },
  {
   "cell_type": "code",
   "execution_count": 20,
   "id": "d7894661",
   "metadata": {},
   "outputs": [],
   "source": [
    "plt_women = pd.DataFrame(profiles.loc[women_idx].mean(), columns=['avg_score'])\n",
    "plt_men = pd.DataFrame(profiles.loc[men_idx].mean(), columns=['avg_score'])"
   ]
  },
  {
   "cell_type": "code",
   "execution_count": 21,
   "id": "16ab7890",
   "metadata": {},
   "outputs": [
    {
     "data": {
      "text/html": [
       "<div>\n",
       "<style scoped>\n",
       "    .dataframe tbody tr th:only-of-type {\n",
       "        vertical-align: middle;\n",
       "    }\n",
       "\n",
       "    .dataframe tbody tr th {\n",
       "        vertical-align: top;\n",
       "    }\n",
       "\n",
       "    .dataframe thead th {\n",
       "        text-align: right;\n",
       "    }\n",
       "</style>\n",
       "<table border=\"1\" class=\"dataframe\">\n",
       "  <thead>\n",
       "    <tr style=\"text-align: right;\">\n",
       "      <th></th>\n",
       "      <th>index</th>\n",
       "      <th>avg_score</th>\n",
       "    </tr>\n",
       "  </thead>\n",
       "  <tbody>\n",
       "    <tr>\n",
       "      <th>0</th>\n",
       "      <td>Unnamed: 0</td>\n",
       "      <td>4399.229592</td>\n",
       "    </tr>\n",
       "    <tr>\n",
       "      <th>1</th>\n",
       "      <td>sports</td>\n",
       "      <td>5.494898</td>\n",
       "    </tr>\n",
       "    <tr>\n",
       "      <th>2</th>\n",
       "      <td>museums</td>\n",
       "      <td>7.454082</td>\n",
       "    </tr>\n",
       "    <tr>\n",
       "      <th>3</th>\n",
       "      <td>tvsports</td>\n",
       "      <td>4.005102</td>\n",
       "    </tr>\n",
       "    <tr>\n",
       "      <th>4</th>\n",
       "      <td>exercise</td>\n",
       "      <td>6.224490</td>\n",
       "    </tr>\n",
       "  </tbody>\n",
       "</table>\n",
       "</div>"
      ],
      "text/plain": [
       "        index    avg_score\n",
       "0  Unnamed: 0  4399.229592\n",
       "1      sports     5.494898\n",
       "2     museums     7.454082\n",
       "3    tvsports     4.005102\n",
       "4    exercise     6.224490"
      ]
     },
     "execution_count": 21,
     "metadata": {},
     "output_type": "execute_result"
    }
   ],
   "source": [
    "plt_women.head().reset_index()"
   ]
  },
  {
   "cell_type": "code",
   "execution_count": 22,
   "id": "91cc5bfc",
   "metadata": {},
   "outputs": [
    {
     "data": {
      "text/plain": [
       "18"
      ]
     },
     "execution_count": 22,
     "metadata": {},
     "output_type": "execute_result"
    }
   ],
   "source": [
    "len(plt_women)"
   ]
  },
  {
   "cell_type": "code",
   "execution_count": 23,
   "id": "bf9a3467",
   "metadata": {},
   "outputs": [
    {
     "data": {
      "text/plain": [
       "18"
      ]
     },
     "execution_count": 23,
     "metadata": {},
     "output_type": "execute_result"
    }
   ],
   "source": [
    "len(plt_men)"
   ]
  },
  {
   "cell_type": "code",
   "execution_count": 24,
   "id": "2e87f74a",
   "metadata": {},
   "outputs": [
    {
     "data": {
      "text/html": [
       "<div>\n",
       "<style scoped>\n",
       "    .dataframe tbody tr th:only-of-type {\n",
       "        vertical-align: middle;\n",
       "    }\n",
       "\n",
       "    .dataframe tbody tr th {\n",
       "        vertical-align: top;\n",
       "    }\n",
       "\n",
       "    .dataframe thead th {\n",
       "        text-align: right;\n",
       "    }\n",
       "</style>\n",
       "<table border=\"1\" class=\"dataframe\">\n",
       "  <thead>\n",
       "    <tr style=\"text-align: right;\">\n",
       "      <th></th>\n",
       "      <th>index</th>\n",
       "      <th>avg_score</th>\n",
       "    </tr>\n",
       "  </thead>\n",
       "  <tbody>\n",
       "    <tr>\n",
       "      <th>0</th>\n",
       "      <td>Unnamed: 0</td>\n",
       "      <td>4602.966346</td>\n",
       "    </tr>\n",
       "    <tr>\n",
       "      <th>1</th>\n",
       "      <td>sports</td>\n",
       "      <td>7.168269</td>\n",
       "    </tr>\n",
       "    <tr>\n",
       "      <th>2</th>\n",
       "      <td>museums</td>\n",
       "      <td>6.480769</td>\n",
       "    </tr>\n",
       "    <tr>\n",
       "      <th>3</th>\n",
       "      <td>tvsports</td>\n",
       "      <td>5.076923</td>\n",
       "    </tr>\n",
       "    <tr>\n",
       "      <th>4</th>\n",
       "      <td>exercise</td>\n",
       "      <td>6.168269</td>\n",
       "    </tr>\n",
       "  </tbody>\n",
       "</table>\n",
       "</div>"
      ],
      "text/plain": [
       "        index    avg_score\n",
       "0  Unnamed: 0  4602.966346\n",
       "1      sports     7.168269\n",
       "2     museums     6.480769\n",
       "3    tvsports     5.076923\n",
       "4    exercise     6.168269"
      ]
     },
     "execution_count": 24,
     "metadata": {},
     "output_type": "execute_result"
    }
   ],
   "source": [
    "plt_men.head().reset_index()"
   ]
  },
  {
   "cell_type": "code",
   "execution_count": 25,
   "id": "f7aa653f",
   "metadata": {},
   "outputs": [],
   "source": [
    "plt_men = plt_men.iloc[1:]"
   ]
  },
  {
   "cell_type": "code",
   "execution_count": 26,
   "id": "d7920efa",
   "metadata": {},
   "outputs": [
    {
     "data": {
      "text/html": [
       "<div>\n",
       "<style scoped>\n",
       "    .dataframe tbody tr th:only-of-type {\n",
       "        vertical-align: middle;\n",
       "    }\n",
       "\n",
       "    .dataframe tbody tr th {\n",
       "        vertical-align: top;\n",
       "    }\n",
       "\n",
       "    .dataframe thead th {\n",
       "        text-align: right;\n",
       "    }\n",
       "</style>\n",
       "<table border=\"1\" class=\"dataframe\">\n",
       "  <thead>\n",
       "    <tr style=\"text-align: right;\">\n",
       "      <th></th>\n",
       "      <th>avg_score</th>\n",
       "    </tr>\n",
       "  </thead>\n",
       "  <tbody>\n",
       "    <tr>\n",
       "      <th>sports</th>\n",
       "      <td>7.168269</td>\n",
       "    </tr>\n",
       "    <tr>\n",
       "      <th>museums</th>\n",
       "      <td>6.480769</td>\n",
       "    </tr>\n",
       "    <tr>\n",
       "      <th>tvsports</th>\n",
       "      <td>5.076923</td>\n",
       "    </tr>\n",
       "    <tr>\n",
       "      <th>exercise</th>\n",
       "      <td>6.168269</td>\n",
       "    </tr>\n",
       "    <tr>\n",
       "      <th>dining</th>\n",
       "      <td>7.399038</td>\n",
       "    </tr>\n",
       "    <tr>\n",
       "      <th>art</th>\n",
       "      <td>6.153846</td>\n",
       "    </tr>\n",
       "    <tr>\n",
       "      <th>hiking</th>\n",
       "      <td>5.519231</td>\n",
       "    </tr>\n",
       "    <tr>\n",
       "      <th>gaming</th>\n",
       "      <td>4.557692</td>\n",
       "    </tr>\n",
       "    <tr>\n",
       "      <th>clubbing</th>\n",
       "      <td>5.600962</td>\n",
       "    </tr>\n",
       "    <tr>\n",
       "      <th>reading</th>\n",
       "      <td>7.302885</td>\n",
       "    </tr>\n",
       "    <tr>\n",
       "      <th>tv</th>\n",
       "      <td>4.937500</td>\n",
       "    </tr>\n",
       "    <tr>\n",
       "      <th>theater</th>\n",
       "      <td>6.038462</td>\n",
       "    </tr>\n",
       "    <tr>\n",
       "      <th>movies</th>\n",
       "      <td>7.668269</td>\n",
       "    </tr>\n",
       "    <tr>\n",
       "      <th>concerts</th>\n",
       "      <td>6.591346</td>\n",
       "    </tr>\n",
       "    <tr>\n",
       "      <th>shopping</th>\n",
       "      <td>4.884615</td>\n",
       "    </tr>\n",
       "    <tr>\n",
       "      <th>music</th>\n",
       "      <td>7.668269</td>\n",
       "    </tr>\n",
       "    <tr>\n",
       "      <th>yoga</th>\n",
       "      <td>3.764423</td>\n",
       "    </tr>\n",
       "  </tbody>\n",
       "</table>\n",
       "</div>"
      ],
      "text/plain": [
       "          avg_score\n",
       "sports     7.168269\n",
       "museums    6.480769\n",
       "tvsports   5.076923\n",
       "exercise   6.168269\n",
       "dining     7.399038\n",
       "art        6.153846\n",
       "hiking     5.519231\n",
       "gaming     4.557692\n",
       "clubbing   5.600962\n",
       "reading    7.302885\n",
       "tv         4.937500\n",
       "theater    6.038462\n",
       "movies     7.668269\n",
       "concerts   6.591346\n",
       "shopping   4.884615\n",
       "music      7.668269\n",
       "yoga       3.764423"
      ]
     },
     "execution_count": 26,
     "metadata": {},
     "output_type": "execute_result"
    }
   ],
   "source": [
    "plt_men"
   ]
  },
  {
   "cell_type": "code",
   "execution_count": 27,
   "id": "dd79cd1c",
   "metadata": {},
   "outputs": [],
   "source": [
    "plt_women = plt_women.iloc[1:]"
   ]
  },
  {
   "cell_type": "code",
   "execution_count": 28,
   "id": "5d4095ea",
   "metadata": {},
   "outputs": [
    {
     "data": {
      "text/html": [
       "<div>\n",
       "<style scoped>\n",
       "    .dataframe tbody tr th:only-of-type {\n",
       "        vertical-align: middle;\n",
       "    }\n",
       "\n",
       "    .dataframe tbody tr th {\n",
       "        vertical-align: top;\n",
       "    }\n",
       "\n",
       "    .dataframe thead th {\n",
       "        text-align: right;\n",
       "    }\n",
       "</style>\n",
       "<table border=\"1\" class=\"dataframe\">\n",
       "  <thead>\n",
       "    <tr style=\"text-align: right;\">\n",
       "      <th></th>\n",
       "      <th>avg_score</th>\n",
       "    </tr>\n",
       "  </thead>\n",
       "  <tbody>\n",
       "    <tr>\n",
       "      <th>sports</th>\n",
       "      <td>5.494898</td>\n",
       "    </tr>\n",
       "    <tr>\n",
       "      <th>museums</th>\n",
       "      <td>7.454082</td>\n",
       "    </tr>\n",
       "    <tr>\n",
       "      <th>tvsports</th>\n",
       "      <td>4.005102</td>\n",
       "    </tr>\n",
       "    <tr>\n",
       "      <th>exercise</th>\n",
       "      <td>6.224490</td>\n",
       "    </tr>\n",
       "    <tr>\n",
       "      <th>dining</th>\n",
       "      <td>8.198980</td>\n",
       "    </tr>\n",
       "    <tr>\n",
       "      <th>art</th>\n",
       "      <td>7.255102</td>\n",
       "    </tr>\n",
       "    <tr>\n",
       "      <th>hiking</th>\n",
       "      <td>5.928571</td>\n",
       "    </tr>\n",
       "    <tr>\n",
       "      <th>gaming</th>\n",
       "      <td>3.081633</td>\n",
       "    </tr>\n",
       "    <tr>\n",
       "      <th>clubbing</th>\n",
       "      <td>5.872449</td>\n",
       "    </tr>\n",
       "    <tr>\n",
       "      <th>reading</th>\n",
       "      <td>7.892857</td>\n",
       "    </tr>\n",
       "    <tr>\n",
       "      <th>tv</th>\n",
       "      <td>5.658163</td>\n",
       "    </tr>\n",
       "    <tr>\n",
       "      <th>theater</th>\n",
       "      <td>7.540816</td>\n",
       "    </tr>\n",
       "    <tr>\n",
       "      <th>movies</th>\n",
       "      <td>8.178571</td>\n",
       "    </tr>\n",
       "    <tr>\n",
       "      <th>concerts</th>\n",
       "      <td>7.229592</td>\n",
       "    </tr>\n",
       "    <tr>\n",
       "      <th>shopping</th>\n",
       "      <td>6.423469</td>\n",
       "    </tr>\n",
       "    <tr>\n",
       "      <th>music</th>\n",
       "      <td>8.035714</td>\n",
       "    </tr>\n",
       "    <tr>\n",
       "      <th>yoga</th>\n",
       "      <td>5.096939</td>\n",
       "    </tr>\n",
       "  </tbody>\n",
       "</table>\n",
       "</div>"
      ],
      "text/plain": [
       "          avg_score\n",
       "sports     5.494898\n",
       "museums    7.454082\n",
       "tvsports   4.005102\n",
       "exercise   6.224490\n",
       "dining     8.198980\n",
       "art        7.255102\n",
       "hiking     5.928571\n",
       "gaming     3.081633\n",
       "clubbing   5.872449\n",
       "reading    7.892857\n",
       "tv         5.658163\n",
       "theater    7.540816\n",
       "movies     8.178571\n",
       "concerts   7.229592\n",
       "shopping   6.423469\n",
       "music      8.035714\n",
       "yoga       5.096939"
      ]
     },
     "execution_count": 28,
     "metadata": {},
     "output_type": "execute_result"
    }
   ],
   "source": [
    "plt_women"
   ]
  },
  {
   "cell_type": "code",
   "execution_count": 29,
   "id": "4fb6e6bc",
   "metadata": {},
   "outputs": [
    {
     "data": {
      "text/plain": [
       "Index(['avg_score'], dtype='object')"
      ]
     },
     "execution_count": 29,
     "metadata": {},
     "output_type": "execute_result"
    }
   ],
   "source": [
    "plt_women.columns"
   ]
  },
  {
   "cell_type": "code",
   "execution_count": 30,
   "id": "a40f7768",
   "metadata": {},
   "outputs": [
    {
     "data": {
      "text/plain": [
       "Index(['Unnamed: 0', 'sports', 'museums', 'tvsports', 'exercise', 'dining',\n",
       "       'art', 'hiking', 'gaming', 'clubbing', 'reading', 'tv', 'theater',\n",
       "       'movies', 'concerts', 'shopping', 'music', 'yoga'],\n",
       "      dtype='object')"
      ]
     },
     "execution_count": 30,
     "metadata": {},
     "output_type": "execute_result"
    }
   ],
   "source": [
    "profiles.columns"
   ]
  },
  {
   "cell_type": "code",
   "execution_count": 31,
   "id": "d98e3886",
   "metadata": {},
   "outputs": [],
   "source": [
    "interests = ['sports', 'museums', 'tvsports', 'exercise', 'dining',\n",
    "       'art', 'hiking', 'gaming', 'clubbing', 'reading', 'tv', 'theater',\n",
    "       'movies', 'concerts', 'shopping', 'music', 'yoga']"
   ]
  },
  {
   "cell_type": "code",
   "execution_count": 32,
   "id": "e6971d6b",
   "metadata": {},
   "outputs": [],
   "source": [
    "female = list(plt_women['avg_score'])"
   ]
  },
  {
   "cell_type": "code",
   "execution_count": 33,
   "id": "dbfc58c8",
   "metadata": {},
   "outputs": [
    {
     "data": {
      "text/plain": [
       "[5.494897959183674,\n",
       " 7.454081632653061,\n",
       " 4.005102040816326,\n",
       " 6.224489795918367,\n",
       " 8.198979591836734,\n",
       " 7.255102040816326,\n",
       " 5.928571428571429,\n",
       " 3.0816326530612246,\n",
       " 5.872448979591836,\n",
       " 7.892857142857143,\n",
       " 5.658163265306122,\n",
       " 7.540816326530612,\n",
       " 8.178571428571429,\n",
       " 7.229591836734694,\n",
       " 6.423469387755102,\n",
       " 8.035714285714286,\n",
       " 5.096938775510204]"
      ]
     },
     "execution_count": 33,
     "metadata": {},
     "output_type": "execute_result"
    }
   ],
   "source": [
    "female "
   ]
  },
  {
   "cell_type": "code",
   "execution_count": 34,
   "id": "c11de5fb",
   "metadata": {},
   "outputs": [],
   "source": [
    "man = list(plt_men['avg_score'])"
   ]
  },
  {
   "cell_type": "code",
   "execution_count": 35,
   "id": "cdb8d5ce",
   "metadata": {},
   "outputs": [
    {
     "data": {
      "text/plain": [
       "[7.168269230769231,\n",
       " 6.480769230769231,\n",
       " 5.076923076923077,\n",
       " 6.168269230769231,\n",
       " 7.399038461538462,\n",
       " 6.153846153846154,\n",
       " 5.519230769230769,\n",
       " 4.5576923076923075,\n",
       " 5.600961538461538,\n",
       " 7.302884615384615,\n",
       " 4.9375,\n",
       " 6.038461538461538,\n",
       " 7.668269230769231,\n",
       " 6.591346153846154,\n",
       " 4.884615384615385,\n",
       " 7.668269230769231,\n",
       " 3.764423076923077]"
      ]
     },
     "execution_count": 35,
     "metadata": {},
     "output_type": "execute_result"
    }
   ],
   "source": [
    "man"
   ]
  },
  {
   "cell_type": "code",
   "execution_count": 36,
   "id": "29f97615",
   "metadata": {},
   "outputs": [],
   "source": [
    "df = pd.DataFrame({'interests': interests, 'female': female, 'male': man})"
   ]
  },
  {
   "cell_type": "code",
   "execution_count": 37,
   "id": "f0955860",
   "metadata": {},
   "outputs": [],
   "source": [
    "df.to_csv('data/average_interests.csv', index=False)"
   ]
  },
  {
   "cell_type": "code",
   "execution_count": null,
   "id": "81cc4036",
   "metadata": {},
   "outputs": [],
   "source": []
  }
 ],
 "metadata": {
  "kernelspec": {
   "display_name": "Python 3 (ipykernel)",
   "language": "python",
   "name": "python3"
  },
  "language_info": {
   "codemirror_mode": {
    "name": "ipython",
    "version": 3
   },
   "file_extension": ".py",
   "mimetype": "text/x-python",
   "name": "python",
   "nbconvert_exporter": "python",
   "pygments_lexer": "ipython3",
   "version": "3.9.13"
  }
 },
 "nbformat": 4,
 "nbformat_minor": 5
}
