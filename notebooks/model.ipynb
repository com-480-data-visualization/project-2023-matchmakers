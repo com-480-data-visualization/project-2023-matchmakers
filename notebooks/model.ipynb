{
  "nbformat": 4,
  "nbformat_minor": 0,
  "metadata": {
    "colab": {
      "provenance": []
    },
    "kernelspec": {
      "name": "python3",
      "display_name": "Python 3"
    },
    "language_info": {
      "name": "python"
    }
  },
  "cells": [
    {
      "cell_type": "code",
      "execution_count": null,
      "metadata": {
        "id": "cBgcNhvNGAqF"
      },
      "outputs": [],
      "source": [
        "pip install tensorflow"
      ]
    },
    {
      "cell_type": "code",
      "source": [
        "pip install tensorflow_decision_forests"
      ],
      "metadata": {
        "id": "DmkuM85OGFOr"
      },
      "execution_count": null,
      "outputs": []
    },
    {
      "cell_type": "code",
      "source": [
        "pip install tensorflowjs"
      ],
      "metadata": {
        "id": "S52g4QGHGIBf"
      },
      "execution_count": null,
      "outputs": []
    },
    {
      "cell_type": "code",
      "source": [
        "import pandas as pd\n",
        "import seaborn as sns\n",
        "import matplotlib.pyplot as plt\n",
        "import sklearn\n",
        "from sklearn.model_selection import train_test_split\n",
        "from sklearn.preprocessing import StandardScaler\n",
        "from sklearn.metrics import *\n",
        "from sklearn.utils.class_weight import compute_class_weight\n",
        "import numpy as np\n",
        "import tensorflow_decision_forests as tfdf"
      ],
      "metadata": {
        "id": "yJj7ALMiGJwn"
      },
      "execution_count": null,
      "outputs": []
    },
    {
      "cell_type": "code",
      "source": [
        "cleaned = pd.read_csv('cleaned.csv').rename({'Unnamed: 0': 'index'}, axis=1).set_index('index')"
      ],
      "metadata": {
        "id": "QW_L2n5GGNMO"
      },
      "execution_count": null,
      "outputs": []
    },
    {
      "cell_type": "code",
      "source": [
        "train = cleaned[['age', 'age_o', 'race', 'race_o', 'interests_correlate',\n",
        "                 'pref_o_attractive', 'pref_o_sincere', 'pref_o_intelligence',\n",
        "       'pref_o_funny', 'pref_o_ambitious', 'pref_o_shared_interests',\n",
        "                 'attractive_important', 'sincere_important', 'intellicence_important',\n",
        "       'funny_important', 'ambtition_important', 'shared_interests_important'\n",
        "                ]]\n",
        "\n",
        "race_map = {\n",
        "    'European/Caucasian-American':'Caucasian', \n",
        "    'Other':'Other',\n",
        "    'Asian/Pacific Islander/Asian-American': 'Asian',\n",
        "    'Latino/Hispanic American':'Latinx',\n",
        "    'Black/African American':'Black'\n",
        "}\n",
        "\n",
        "train = train.assign(race = train.race.map(lambda x: race_map[x]),\n",
        "            race_o = train.race_o.map(lambda x: race_map[x]))"
      ],
      "metadata": {
        "id": "OZ519capGTiV"
      },
      "execution_count": null,
      "outputs": []
    },
    {
      "cell_type": "code",
      "source": [
        "#.drop(columns=['field', 'decision', 'decision_o', 'match'])\n",
        "trainx = pd.get_dummies(train, drop_first=True)\n",
        "X_train, X_test, y_train, y_test = train_test_split(trainx, cleaned.match, test_size=0.2)\n",
        "\n",
        "#scaler = StandardScaler().fit(X_train)\n",
        "#X_train = pd.DataFrame(scaler.transform(X_train), index=X_train.index, columns=X_train.columns)\n",
        "#X_test = pd.DataFrame(scaler.transform(X_test), index=X_test.index, columns=X_test.columns)"
      ],
      "metadata": {
        "id": "Eo_3EbU-GYuA"
      },
      "execution_count": null,
      "outputs": []
    },
    {
      "cell_type": "code",
      "source": [
        "class_weights = compute_class_weight(class_weight='balanced',classes=np.unique(y_train), y=y_train)\n",
        "class_weights"
      ],
      "metadata": {
        "colab": {
          "base_uri": "https://localhost:8080/"
        },
        "id": "mBtvZgSaGanM",
        "outputId": "f493f9c5-59fa-4775-ab64-31c37fee2df5"
      },
      "execution_count": null,
      "outputs": [
        {
          "output_type": "execute_result",
          "data": {
            "text/plain": [
              "array([0.60710608, 2.83413462])"
            ]
          },
          "metadata": {},
          "execution_count": 5
        }
      ]
    },
    {
      "cell_type": "code",
      "source": [
        "train_weights = y_train.map(lambda x: class_weights[x]).to_numpy()"
      ],
      "metadata": {
        "id": "oCibW_liGcIS"
      },
      "execution_count": null,
      "outputs": []
    },
    {
      "cell_type": "code",
      "source": [
        "model2 = tfdf.keras.GradientBoostedTreesModel(num_trees=1000)"
      ],
      "metadata": {
        "colab": {
          "base_uri": "https://localhost:8080/"
        },
        "id": "kJnDHO5XGdHc",
        "outputId": "5a4945a9-7e28-464c-faca-0057fc115bea"
      },
      "execution_count": null,
      "outputs": [
        {
          "output_type": "stream",
          "name": "stdout",
          "text": [
            "Use /tmp/tmpa_vxvjog as temporary training directory\n"
          ]
        }
      ]
    },
    {
      "cell_type": "code",
      "source": [
        "model2.fit(x=X_train.to_numpy(), y=y_train.to_numpy(), sample_weight=train_weights)"
      ],
      "metadata": {
        "colab": {
          "base_uri": "https://localhost:8080/"
        },
        "id": "SWM2k798GetT",
        "outputId": "a1b60993-83dc-4841-c8df-ba725ae4059d"
      },
      "execution_count": null,
      "outputs": [
        {
          "output_type": "stream",
          "name": "stdout",
          "text": [
            "Reading training dataset...\n",
            "Training dataset read in 0:00:04.828992. Found 4716 examples.\n",
            "Training model...\n",
            "Model trained in 0:00:01.309229\n",
            "Compiling model...\n"
          ]
        },
        {
          "output_type": "stream",
          "name": "stderr",
          "text": [
            "WARNING:tensorflow:AutoGraph could not transform <function simple_ml_inference_op_with_handle at 0x7ff05a117a30> and will run it as-is.\n",
            "Please report this to the TensorFlow team. When filing the bug, set the verbosity to 10 (on Linux, `export AUTOGRAPH_VERBOSITY=10`) and attach the full output.\n",
            "Cause: could not get source code\n",
            "To silence this warning, decorate the function with @tf.autograph.experimental.do_not_convert\n"
          ]
        },
        {
          "output_type": "stream",
          "name": "stdout",
          "text": [
            "WARNING: AutoGraph could not transform <function simple_ml_inference_op_with_handle at 0x7ff05a117a30> and will run it as-is.\n",
            "Please report this to the TensorFlow team. When filing the bug, set the verbosity to 10 (on Linux, `export AUTOGRAPH_VERBOSITY=10`) and attach the full output.\n",
            "Cause: could not get source code\n",
            "To silence this warning, decorate the function with @tf.autograph.experimental.do_not_convert\n",
            "Model compiled.\n"
          ]
        },
        {
          "output_type": "execute_result",
          "data": {
            "text/plain": [
              "<keras.callbacks.History at 0x7ff058335420>"
            ]
          },
          "metadata": {},
          "execution_count": 8
        }
      ]
    },
    {
      "cell_type": "code",
      "source": [
        "preds = model2.predict(X_test)"
      ],
      "metadata": {
        "colab": {
          "base_uri": "https://localhost:8080/"
        },
        "id": "MNV_R5b6GfvH",
        "outputId": "522f99dd-f686-4df6-f88d-a52ba38c8f7e"
      },
      "execution_count": null,
      "outputs": [
        {
          "output_type": "stream",
          "name": "stdout",
          "text": [
            "37/37 [==============================] - 0s 945us/step\n"
          ]
        }
      ]
    },
    {
      "cell_type": "code",
      "source": [
        "import tensorflow as tf\n",
        "import tensorflowjs as tfjs\n",
        "from google.colab import files"
      ],
      "metadata": {
        "id": "6ha423hlGkl-"
      },
      "execution_count": null,
      "outputs": []
    },
    {
      "cell_type": "code",
      "source": [
        "model2.save('matchmodel_current')"
      ],
      "metadata": {
        "colab": {
          "base_uri": "https://localhost:8080/"
        },
        "id": "8Y3guMHiGnDL",
        "outputId": "65b0a4b4-ab55-4577-f282-0d62f3b94c92"
      },
      "execution_count": null,
      "outputs": [
        {
          "output_type": "stream",
          "name": "stderr",
          "text": [
            "WARNING:absl:Found untraced functions such as call_get_leaves, _update_step_xla while saving (showing 2 of 2). These functions will not be directly callable after loading.\n"
          ]
        }
      ]
    },
    {
      "cell_type": "code",
      "source": [
        "model2.save('/content/drive/MyDrive/models/matchmodel_current')"
      ],
      "metadata": {
        "colab": {
          "base_uri": "https://localhost:8080/"
        },
        "id": "5zL0hQSUIg7K",
        "outputId": "715b6c88-b4e2-45d7-e52b-0d47c96fcb15"
      },
      "execution_count": null,
      "outputs": [
        {
          "output_type": "stream",
          "name": "stderr",
          "text": [
            "WARNING:absl:Found untraced functions such as call_get_leaves, _update_step_xla while saving (showing 2 of 2). These functions will not be directly callable after loading.\n"
          ]
        }
      ]
    },
    {
      "cell_type": "code",
      "source": [
        "model = tf.keras.models.load_model(\"matchmodel_current\")"
      ],
      "metadata": {
        "id": "CefzpEYIGom1"
      },
      "execution_count": null,
      "outputs": []
    },
    {
      "cell_type": "code",
      "source": [
        "from google.colab import drive\n",
        "drive.mount('/content/drive')"
      ],
      "metadata": {
        "colab": {
          "base_uri": "https://localhost:8080/"
        },
        "id": "VXkG0qoYHH8v",
        "outputId": "8e8d1b01-d661-41ed-d17b-ce20e620f164"
      },
      "execution_count": null,
      "outputs": [
        {
          "output_type": "stream",
          "name": "stdout",
          "text": [
            "Mounted at /content/drive\n"
          ]
        }
      ]
    },
    {
      "cell_type": "code",
      "source": [
        "%cd /content/drive/MyDrive/models"
      ],
      "metadata": {
        "colab": {
          "base_uri": "https://localhost:8080/"
        },
        "id": "6e-Bu9ohHSAf",
        "outputId": "e3880df2-9d42-4ddf-bdaa-79056df33604"
      },
      "execution_count": null,
      "outputs": [
        {
          "output_type": "stream",
          "name": "stdout",
          "text": [
            "/content/drive/MyDrive/models\n"
          ]
        }
      ]
    },
    {
      "cell_type": "code",
      "source": [
        "model = tf.keras.models.load_model(\"matchmodel_current\")"
      ],
      "metadata": {
        "id": "xon5o8gNBBCZ"
      },
      "execution_count": null,
      "outputs": []
    },
    {
      "cell_type": "code",
      "source": [
        "tfjs.converters.tf_saved_model_conversion_v2.convert_keras_model_to_graph_model(model, \"./matchmodel_current_js\")"
      ],
      "metadata": {
        "colab": {
          "base_uri": "https://localhost:8080/"
        },
        "id": "0BAUxXzRIGZV",
        "outputId": "6f0207b1-0109-4339-d0f9-2de18606a25e"
      },
      "execution_count": null,
      "outputs": [
        {
          "output_type": "stream",
          "name": "stderr",
          "text": [
            "WARNING:tensorflow:Issue encountered when serializing table_initializer.\n",
            "Type is unsupported, or the types of the items don't match field type in CollectionDef. Note this is a warning and probably safe to ignore.\n",
            "'NoneType' object has no attribute 'name'\n",
            "WARNING:tensorflow:Issue encountered when serializing table_initializer.\n",
            "Type is unsupported, or the types of the items don't match field type in CollectionDef. Note this is a warning and probably safe to ignore.\n",
            "'NoneType' object has no attribute 'name'\n"
          ]
        },
        {
          "output_type": "stream",
          "name": "stdout",
          "text": [
            "Can not freeze saved model v1.\n"
          ]
        }
      ]
    },
    {
      "cell_type": "code",
      "source": [
        "preds = model.predict(X_test)"
      ],
      "metadata": {
        "colab": {
          "base_uri": "https://localhost:8080/"
        },
        "outputId": "f4527dc7-35c2-4d8d-ee79-9d2aa01c2fc7",
        "id": "UexWBFSkBY6e"
      },
      "execution_count": null,
      "outputs": [
        {
          "output_type": "stream",
          "name": "stdout",
          "text": [
            "37/37 [==============================] - 0s 2ms/step\n"
          ]
        }
      ]
    },
    {
      "cell_type": "code",
      "source": [
        "acc = accuracy_score(y_test, [(a>0.5)*1 for a in preds.flatten()])\n",
        "bacc = balanced_accuracy_score(y_test, [(a>0.5)*1 for a in preds.flatten()])\n",
        "f1 = f1_score(y_test, [(a>0.5)*1 for a in preds.flatten()])\n",
        "\n",
        "print('Test scores')\n",
        "print(f'accuracy = {acc*100:.2f}')\n",
        "print(f'balanced accuracy = {bacc*100:.2f}')\n",
        "print(f'f1 score = {f1*100:.2f}')"
      ],
      "metadata": {
        "colab": {
          "base_uri": "https://localhost:8080/"
        },
        "outputId": "d1f0b104-df46-4813-904a-c4c5faa918c4",
        "id": "OJ_6zoHPBY6n"
      },
      "execution_count": null,
      "outputs": [
        {
          "output_type": "stream",
          "name": "stdout",
          "text": [
            "Test scores\n",
            "accuracy = 72.18\n",
            "balanced accuracy = 73.39\n",
            "f1 score = 45.33\n"
          ]
        }
      ]
    },
    {
      "cell_type": "code",
      "source": [
        "preds = model.predict(X_train)\n",
        "\n",
        "acc = accuracy_score(y_train, [(a>0.5)*1 for a in preds.flatten()])\n",
        "bacc = balanced_accuracy_score(y_train, [(a>0.5)*1 for a in preds.flatten()])\n",
        "f1 = f1_score(y_train, [(a>0.5)*1 for a in preds.flatten()])\n",
        "\n",
        "print('Train scores')\n",
        "print(f'accuracy = {acc*100:.2f}')\n",
        "print(f'balanced accuracy = {bacc*100:.2f}')\n",
        "print(f'f1 score = {f1*100:.2f}')"
      ],
      "metadata": {
        "colab": {
          "base_uri": "https://localhost:8080/"
        },
        "outputId": "07473553-ba45-4d86-c0c7-a66f8c714207",
        "id": "EQSPf8sHBY6n"
      },
      "execution_count": null,
      "outputs": [
        {
          "output_type": "stream",
          "name": "stdout",
          "text": [
            "148/148 [==============================] - 0s 2ms/step\n",
            "Train scores\n",
            "accuracy = 70.74\n",
            "balanced accuracy = 71.14\n",
            "f1 score = 46.39\n"
          ]
        }
      ]
    },
    {
      "cell_type": "code",
      "source": [
        "sns.kdeplot(preds.flatten())"
      ],
      "metadata": {
        "colab": {
          "base_uri": "https://localhost:8080/",
          "height": 447
        },
        "id": "D8MccnfKO2D-",
        "outputId": "04e250a0-4ae1-42e8-e773-206a7103a4be"
      },
      "execution_count": null,
      "outputs": [
        {
          "output_type": "execute_result",
          "data": {
            "text/plain": [
              "<Axes: ylabel='Density'>"
            ]
          },
          "metadata": {},
          "execution_count": 23
        },
        {
          "output_type": "display_data",
          "data": {
            "text/plain": [
              "<Figure size 640x480 with 1 Axes>"
            ],
            "image/png": "[encoded data removed]"
          },
          "metadata": {}
        }
      ]
    },
    {
      "cell_type": "code",
      "source": [],
      "metadata": {
        "id": "gpjsLXJ6Pa4l"
      },
      "execution_count": null,
      "outputs": []
    }
  ]
}