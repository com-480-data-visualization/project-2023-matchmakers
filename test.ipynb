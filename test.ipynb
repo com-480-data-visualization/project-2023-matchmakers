{
 "cells": [
  {
   "cell_type": "code",
   "execution_count": 1,
   "id": "979abf35",
   "metadata": {},
   "outputs": [],
   "source": [
    "import pandas as pd\n",
    "import seaborn as sns\n",
    "import matplotlib.pyplot as plt"
   ]
  },
  {
   "cell_type": "code",
   "execution_count": 2,
   "id": "dc8de369",
   "metadata": {},
   "outputs": [],
   "source": [
    "data = pd.read_csv('data/cleaned.csv')"
   ]
  },
  {
   "cell_type": "code",
   "execution_count": 3,
   "id": "d33a8bc4",
   "metadata": {},
   "outputs": [
    {
     "data": {
      "text/plain": [
       "5895"
      ]
     },
     "execution_count": 3,
     "metadata": {},
     "output_type": "execute_result"
    }
   ],
   "source": [
    "len(data)"
   ]
  },
  {
   "cell_type": "code",
   "execution_count": 4,
   "id": "b0b12427",
   "metadata": {},
   "outputs": [
    {
     "data": {
      "text/html": [
       "<div>\n",
       "<style scoped>\n",
       "    .dataframe tbody tr th:only-of-type {\n",
       "        vertical-align: middle;\n",
       "    }\n",
       "\n",
       "    .dataframe tbody tr th {\n",
       "        vertical-align: top;\n",
       "    }\n",
       "\n",
       "    .dataframe thead th {\n",
       "        text-align: right;\n",
       "    }\n",
       "</style>\n",
       "<table border=\"1\" class=\"dataframe\">\n",
       "  <thead>\n",
       "    <tr style=\"text-align: right;\">\n",
       "      <th></th>\n",
       "      <th>Unnamed: 0</th>\n",
       "      <th>wave</th>\n",
       "      <th>gender</th>\n",
       "      <th>age</th>\n",
       "      <th>age_o</th>\n",
       "      <th>race</th>\n",
       "      <th>race_o</th>\n",
       "      <th>samerace</th>\n",
       "      <th>importance_same_race</th>\n",
       "      <th>importance_same_religion</th>\n",
       "      <th>...</th>\n",
       "      <th>yoga</th>\n",
       "      <th>interests_correlate</th>\n",
       "      <th>expected_happy_with_sd_people</th>\n",
       "      <th>expected_num_matches</th>\n",
       "      <th>like</th>\n",
       "      <th>met</th>\n",
       "      <th>decision</th>\n",
       "      <th>decision_o</th>\n",
       "      <th>match</th>\n",
       "      <th>id_col</th>\n",
       "    </tr>\n",
       "  </thead>\n",
       "  <tbody>\n",
       "    <tr>\n",
       "      <th>0</th>\n",
       "      <td>74</td>\n",
       "      <td>1.0</td>\n",
       "      <td>female</td>\n",
       "      <td>25.0</td>\n",
       "      <td>24.0</td>\n",
       "      <td>European/Caucasian-American</td>\n",
       "      <td>Latino/Hispanic American</td>\n",
       "      <td>0</td>\n",
       "      <td>1.0</td>\n",
       "      <td>1.0</td>\n",
       "      <td>...</td>\n",
       "      <td>6.0</td>\n",
       "      <td>-0.23</td>\n",
       "      <td>6.0</td>\n",
       "      <td>-1.0</td>\n",
       "      <td>6.0</td>\n",
       "      <td>0.0</td>\n",
       "      <td>b'1'</td>\n",
       "      <td>b'1'</td>\n",
       "      <td>1</td>\n",
       "      <td>74</td>\n",
       "    </tr>\n",
       "    <tr>\n",
       "      <th>1</th>\n",
       "      <td>75</td>\n",
       "      <td>1.0</td>\n",
       "      <td>female</td>\n",
       "      <td>25.0</td>\n",
       "      <td>25.0</td>\n",
       "      <td>European/Caucasian-American</td>\n",
       "      <td>European/Caucasian-American</td>\n",
       "      <td>1</td>\n",
       "      <td>1.0</td>\n",
       "      <td>1.0</td>\n",
       "      <td>...</td>\n",
       "      <td>6.0</td>\n",
       "      <td>0.28</td>\n",
       "      <td>6.0</td>\n",
       "      <td>-1.0</td>\n",
       "      <td>6.0</td>\n",
       "      <td>0.0</td>\n",
       "      <td>b'1'</td>\n",
       "      <td>b'1'</td>\n",
       "      <td>1</td>\n",
       "      <td>74</td>\n",
       "    </tr>\n",
       "    <tr>\n",
       "      <th>2</th>\n",
       "      <td>76</td>\n",
       "      <td>1.0</td>\n",
       "      <td>female</td>\n",
       "      <td>25.0</td>\n",
       "      <td>30.0</td>\n",
       "      <td>European/Caucasian-American</td>\n",
       "      <td>European/Caucasian-American</td>\n",
       "      <td>1</td>\n",
       "      <td>1.0</td>\n",
       "      <td>1.0</td>\n",
       "      <td>...</td>\n",
       "      <td>6.0</td>\n",
       "      <td>0.05</td>\n",
       "      <td>6.0</td>\n",
       "      <td>-1.0</td>\n",
       "      <td>6.0</td>\n",
       "      <td>0.0</td>\n",
       "      <td>b'1'</td>\n",
       "      <td>b'0'</td>\n",
       "      <td>0</td>\n",
       "      <td>74</td>\n",
       "    </tr>\n",
       "    <tr>\n",
       "      <th>3</th>\n",
       "      <td>77</td>\n",
       "      <td>1.0</td>\n",
       "      <td>female</td>\n",
       "      <td>25.0</td>\n",
       "      <td>27.0</td>\n",
       "      <td>European/Caucasian-American</td>\n",
       "      <td>European/Caucasian-American</td>\n",
       "      <td>1</td>\n",
       "      <td>1.0</td>\n",
       "      <td>1.0</td>\n",
       "      <td>...</td>\n",
       "      <td>6.0</td>\n",
       "      <td>0.17</td>\n",
       "      <td>6.0</td>\n",
       "      <td>-1.0</td>\n",
       "      <td>5.0</td>\n",
       "      <td>0.0</td>\n",
       "      <td>b'1'</td>\n",
       "      <td>b'1'</td>\n",
       "      <td>1</td>\n",
       "      <td>74</td>\n",
       "    </tr>\n",
       "    <tr>\n",
       "      <th>4</th>\n",
       "      <td>78</td>\n",
       "      <td>1.0</td>\n",
       "      <td>female</td>\n",
       "      <td>25.0</td>\n",
       "      <td>28.0</td>\n",
       "      <td>European/Caucasian-American</td>\n",
       "      <td>European/Caucasian-American</td>\n",
       "      <td>1</td>\n",
       "      <td>1.0</td>\n",
       "      <td>1.0</td>\n",
       "      <td>...</td>\n",
       "      <td>6.0</td>\n",
       "      <td>-0.47</td>\n",
       "      <td>6.0</td>\n",
       "      <td>-1.0</td>\n",
       "      <td>7.0</td>\n",
       "      <td>0.0</td>\n",
       "      <td>b'1'</td>\n",
       "      <td>b'1'</td>\n",
       "      <td>1</td>\n",
       "      <td>74</td>\n",
       "    </tr>\n",
       "  </tbody>\n",
       "</table>\n",
       "<p>5 rows × 66 columns</p>\n",
       "</div>"
      ],
      "text/plain": [
       "   Unnamed: 0  wave  gender   age  age_o                         race  \\\n",
       "0          74   1.0  female  25.0   24.0  European/Caucasian-American   \n",
       "1          75   1.0  female  25.0   25.0  European/Caucasian-American   \n",
       "2          76   1.0  female  25.0   30.0  European/Caucasian-American   \n",
       "3          77   1.0  female  25.0   27.0  European/Caucasian-American   \n",
       "4          78   1.0  female  25.0   28.0  European/Caucasian-American   \n",
       "\n",
       "                        race_o  samerace  importance_same_race  \\\n",
       "0     Latino/Hispanic American         0                   1.0   \n",
       "1  European/Caucasian-American         1                   1.0   \n",
       "2  European/Caucasian-American         1                   1.0   \n",
       "3  European/Caucasian-American         1                   1.0   \n",
       "4  European/Caucasian-American         1                   1.0   \n",
       "\n",
       "   importance_same_religion  ... yoga  interests_correlate  \\\n",
       "0                       1.0  ...  6.0                -0.23   \n",
       "1                       1.0  ...  6.0                 0.28   \n",
       "2                       1.0  ...  6.0                 0.05   \n",
       "3                       1.0  ...  6.0                 0.17   \n",
       "4                       1.0  ...  6.0                -0.47   \n",
       "\n",
       "   expected_happy_with_sd_people  expected_num_matches  like  met  decision  \\\n",
       "0                            6.0                  -1.0   6.0  0.0      b'1'   \n",
       "1                            6.0                  -1.0   6.0  0.0      b'1'   \n",
       "2                            6.0                  -1.0   6.0  0.0      b'1'   \n",
       "3                            6.0                  -1.0   5.0  0.0      b'1'   \n",
       "4                            6.0                  -1.0   7.0  0.0      b'1'   \n",
       "\n",
       "   decision_o  match  id_col  \n",
       "0        b'1'      1      74  \n",
       "1        b'1'      1      74  \n",
       "2        b'0'      0      74  \n",
       "3        b'1'      1      74  \n",
       "4        b'1'      1      74  \n",
       "\n",
       "[5 rows x 66 columns]"
      ]
     },
     "execution_count": 4,
     "metadata": {},
     "output_type": "execute_result"
    }
   ],
   "source": [
    "data.head()"
   ]
  },
  {
   "cell_type": "code",
   "execution_count": 6,
   "id": "f7a9b4e0",
   "metadata": {},
   "outputs": [
    {
     "data": {
      "text/plain": [
       "Index(['Unnamed: 0', 'wave', 'gender', 'age', 'age_o', 'race', 'race_o',\n",
       "       'samerace', 'importance_same_race', 'importance_same_religion', 'field',\n",
       "       'pref_o_attractive', 'pref_o_sincere', 'pref_o_intelligence',\n",
       "       'pref_o_funny', 'pref_o_ambitious', 'pref_o_shared_interests',\n",
       "       'attractive_o', 'sinsere_o', 'intelligence_o', 'funny_o', 'ambitous_o',\n",
       "       'shared_interests_o', 'attractive_important', 'sincere_important',\n",
       "       'intellicence_important', 'funny_important', 'ambtition_important',\n",
       "       'shared_interests_important', 'attractive', 'sincere', 'intelligence',\n",
       "       'funny', 'ambition', 'attractive_partner', 'sincere_partner',\n",
       "       'intelligence_partner', 'funny_partner', 'ambition_partner',\n",
       "       'shared_interests_partner', 'sports', 'tvsports', 'exercise', 'dining',\n",
       "       'museums', 'art', 'hiking', 'gaming', 'clubbing', 'reading', 'tv',\n",
       "       'theater', 'movies', 'concerts', 'music', 'shopping', 'yoga',\n",
       "       'interests_correlate', 'expected_happy_with_sd_people',\n",
       "       'expected_num_matches', 'like', 'met', 'decision', 'decision_o',\n",
       "       'match', 'id_col'],\n",
       "      dtype='object')"
      ]
     },
     "execution_count": 6,
     "metadata": {},
     "output_type": "execute_result"
    }
   ],
   "source": [
    "data.columns"
   ]
  },
  {
   "cell_type": "code",
   "execution_count": 7,
   "id": "8a7a1287",
   "metadata": {},
   "outputs": [],
   "source": [
    "age = data.loc[:, ['age', 'age_o', 'match']]"
   ]
  },
  {
   "cell_type": "code",
   "execution_count": 8,
   "id": "d603c8f2",
   "metadata": {},
   "outputs": [],
   "source": [
    "mask = data['match'] == 1"
   ]
  },
  {
   "cell_type": "code",
   "execution_count": 9,
   "id": "ac899162",
   "metadata": {},
   "outputs": [],
   "source": [
    "df = data[mask]"
   ]
  },
  {
   "cell_type": "code",
   "execution_count": 10,
   "id": "c949fdaa",
   "metadata": {},
   "outputs": [
    {
     "data": {
      "text/html": [
       "<div>\n",
       "<style scoped>\n",
       "    .dataframe tbody tr th:only-of-type {\n",
       "        vertical-align: middle;\n",
       "    }\n",
       "\n",
       "    .dataframe tbody tr th {\n",
       "        vertical-align: top;\n",
       "    }\n",
       "\n",
       "    .dataframe thead th {\n",
       "        text-align: right;\n",
       "    }\n",
       "</style>\n",
       "<table border=\"1\" class=\"dataframe\">\n",
       "  <thead>\n",
       "    <tr style=\"text-align: right;\">\n",
       "      <th></th>\n",
       "      <th>gender</th>\n",
       "      <th>age</th>\n",
       "      <th>age_o</th>\n",
       "    </tr>\n",
       "  </thead>\n",
       "  <tbody>\n",
       "    <tr>\n",
       "      <th>0</th>\n",
       "      <td>female</td>\n",
       "      <td>25.0</td>\n",
       "      <td>24.0</td>\n",
       "    </tr>\n",
       "    <tr>\n",
       "      <th>1</th>\n",
       "      <td>female</td>\n",
       "      <td>25.0</td>\n",
       "      <td>25.0</td>\n",
       "    </tr>\n",
       "    <tr>\n",
       "      <th>3</th>\n",
       "      <td>female</td>\n",
       "      <td>25.0</td>\n",
       "      <td>27.0</td>\n",
       "    </tr>\n",
       "    <tr>\n",
       "      <th>4</th>\n",
       "      <td>female</td>\n",
       "      <td>25.0</td>\n",
       "      <td>28.0</td>\n",
       "    </tr>\n",
       "    <tr>\n",
       "      <th>5</th>\n",
       "      <td>female</td>\n",
       "      <td>25.0</td>\n",
       "      <td>24.0</td>\n",
       "    </tr>\n",
       "    <tr>\n",
       "      <th>...</th>\n",
       "      <td>...</td>\n",
       "      <td>...</td>\n",
       "      <td>...</td>\n",
       "    </tr>\n",
       "    <tr>\n",
       "      <th>5876</th>\n",
       "      <td>male</td>\n",
       "      <td>25.0</td>\n",
       "      <td>26.0</td>\n",
       "    </tr>\n",
       "    <tr>\n",
       "      <th>5878</th>\n",
       "      <td>male</td>\n",
       "      <td>25.0</td>\n",
       "      <td>23.0</td>\n",
       "    </tr>\n",
       "    <tr>\n",
       "      <th>5880</th>\n",
       "      <td>male</td>\n",
       "      <td>25.0</td>\n",
       "      <td>23.0</td>\n",
       "    </tr>\n",
       "    <tr>\n",
       "      <th>5881</th>\n",
       "      <td>male</td>\n",
       "      <td>25.0</td>\n",
       "      <td>27.0</td>\n",
       "    </tr>\n",
       "    <tr>\n",
       "      <th>5888</th>\n",
       "      <td>male</td>\n",
       "      <td>25.0</td>\n",
       "      <td>25.0</td>\n",
       "    </tr>\n",
       "  </tbody>\n",
       "</table>\n",
       "<p>1013 rows × 3 columns</p>\n",
       "</div>"
      ],
      "text/plain": [
       "      gender   age  age_o\n",
       "0     female  25.0   24.0\n",
       "1     female  25.0   25.0\n",
       "3     female  25.0   27.0\n",
       "4     female  25.0   28.0\n",
       "5     female  25.0   24.0\n",
       "...      ...   ...    ...\n",
       "5876    male  25.0   26.0\n",
       "5878    male  25.0   23.0\n",
       "5880    male  25.0   23.0\n",
       "5881    male  25.0   27.0\n",
       "5888    male  25.0   25.0\n",
       "\n",
       "[1013 rows x 3 columns]"
      ]
     },
     "execution_count": 10,
     "metadata": {},
     "output_type": "execute_result"
    }
   ],
   "source": [
    "age = df.loc[:,['gender', 'age', 'age_o']]\n",
    "age"
   ]
  },
  {
   "cell_type": "code",
   "execution_count": 11,
   "id": "96869810",
   "metadata": {},
   "outputs": [],
   "source": [
    "mask = age['gender'] == 'female'\n",
    "female = age[mask]"
   ]
  },
  {
   "cell_type": "code",
   "execution_count": 12,
   "id": "dc34c585",
   "metadata": {},
   "outputs": [
    {
     "data": {
      "text/html": [
       "<div>\n",
       "<style scoped>\n",
       "    .dataframe tbody tr th:only-of-type {\n",
       "        vertical-align: middle;\n",
       "    }\n",
       "\n",
       "    .dataframe tbody tr th {\n",
       "        vertical-align: top;\n",
       "    }\n",
       "\n",
       "    .dataframe thead th {\n",
       "        text-align: right;\n",
       "    }\n",
       "</style>\n",
       "<table border=\"1\" class=\"dataframe\">\n",
       "  <thead>\n",
       "    <tr style=\"text-align: right;\">\n",
       "      <th></th>\n",
       "      <th>gender</th>\n",
       "      <th>age</th>\n",
       "      <th>age_o</th>\n",
       "    </tr>\n",
       "  </thead>\n",
       "  <tbody>\n",
       "    <tr>\n",
       "      <th>0</th>\n",
       "      <td>female</td>\n",
       "      <td>25.0</td>\n",
       "      <td>24.0</td>\n",
       "    </tr>\n",
       "    <tr>\n",
       "      <th>1</th>\n",
       "      <td>female</td>\n",
       "      <td>25.0</td>\n",
       "      <td>25.0</td>\n",
       "    </tr>\n",
       "    <tr>\n",
       "      <th>3</th>\n",
       "      <td>female</td>\n",
       "      <td>25.0</td>\n",
       "      <td>27.0</td>\n",
       "    </tr>\n",
       "    <tr>\n",
       "      <th>4</th>\n",
       "      <td>female</td>\n",
       "      <td>25.0</td>\n",
       "      <td>28.0</td>\n",
       "    </tr>\n",
       "    <tr>\n",
       "      <th>5</th>\n",
       "      <td>female</td>\n",
       "      <td>25.0</td>\n",
       "      <td>24.0</td>\n",
       "    </tr>\n",
       "    <tr>\n",
       "      <th>...</th>\n",
       "      <td>...</td>\n",
       "      <td>...</td>\n",
       "      <td>...</td>\n",
       "    </tr>\n",
       "    <tr>\n",
       "      <th>5374</th>\n",
       "      <td>female</td>\n",
       "      <td>26.0</td>\n",
       "      <td>23.0</td>\n",
       "    </tr>\n",
       "    <tr>\n",
       "      <th>5426</th>\n",
       "      <td>female</td>\n",
       "      <td>22.0</td>\n",
       "      <td>26.0</td>\n",
       "    </tr>\n",
       "    <tr>\n",
       "      <th>5428</th>\n",
       "      <td>female</td>\n",
       "      <td>22.0</td>\n",
       "      <td>24.0</td>\n",
       "    </tr>\n",
       "    <tr>\n",
       "      <th>5449</th>\n",
       "      <td>female</td>\n",
       "      <td>22.0</td>\n",
       "      <td>24.0</td>\n",
       "    </tr>\n",
       "    <tr>\n",
       "      <th>5458</th>\n",
       "      <td>female</td>\n",
       "      <td>22.0</td>\n",
       "      <td>23.0</td>\n",
       "    </tr>\n",
       "  </tbody>\n",
       "</table>\n",
       "<p>499 rows × 3 columns</p>\n",
       "</div>"
      ],
      "text/plain": [
       "      gender   age  age_o\n",
       "0     female  25.0   24.0\n",
       "1     female  25.0   25.0\n",
       "3     female  25.0   27.0\n",
       "4     female  25.0   28.0\n",
       "5     female  25.0   24.0\n",
       "...      ...   ...    ...\n",
       "5374  female  26.0   23.0\n",
       "5426  female  22.0   26.0\n",
       "5428  female  22.0   24.0\n",
       "5449  female  22.0   24.0\n",
       "5458  female  22.0   23.0\n",
       "\n",
       "[499 rows x 3 columns]"
      ]
     },
     "execution_count": 12,
     "metadata": {},
     "output_type": "execute_result"
    }
   ],
   "source": [
    "female"
   ]
  },
  {
   "cell_type": "code",
   "execution_count": 13,
   "id": "65985878",
   "metadata": {},
   "outputs": [
    {
     "data": {
      "text/plain": [
       "25.0    80\n",
       "26.0    75\n",
       "23.0    60\n",
       "22.0    47\n",
       "24.0    45\n",
       "27.0    39\n",
       "29.0    30\n",
       "28.0    29\n",
       "21.0    24\n",
       "33.0    15\n",
       "30.0    13\n",
       "20.0    10\n",
       "34.0     9\n",
       "35.0     7\n",
       "32.0     5\n",
       "19.0     4\n",
       "31.0     3\n",
       "36.0     2\n",
       "38.0     2\n",
       "Name: age, dtype: int64"
      ]
     },
     "execution_count": 13,
     "metadata": {},
     "output_type": "execute_result"
    }
   ],
   "source": [
    "agef = female['age'].value_counts()\n",
    "agef"
   ]
  },
  {
   "cell_type": "code",
   "execution_count": 14,
   "id": "83a7df42",
   "metadata": {},
   "outputs": [],
   "source": [
    "agef = agef.sort_index()"
   ]
  },
  {
   "cell_type": "code",
   "execution_count": 15,
   "id": "7e02a863",
   "metadata": {},
   "outputs": [
    {
     "data": {
      "text/plain": [
       "19.0     4\n",
       "20.0    10\n",
       "21.0    24\n",
       "22.0    47\n",
       "23.0    60\n",
       "24.0    45\n",
       "25.0    80\n",
       "26.0    75\n",
       "27.0    39\n",
       "28.0    29\n",
       "29.0    30\n",
       "30.0    13\n",
       "31.0     3\n",
       "32.0     5\n",
       "33.0    15\n",
       "34.0     9\n",
       "35.0     7\n",
       "36.0     2\n",
       "38.0     2\n",
       "Name: age, dtype: int64"
      ]
     },
     "execution_count": 15,
     "metadata": {},
     "output_type": "execute_result"
    }
   ],
   "source": [
    "agef"
   ]
  },
  {
   "cell_type": "code",
   "execution_count": 16,
   "id": "ca9dd855",
   "metadata": {},
   "outputs": [],
   "source": [
    "result = pd.DataFrame({'Age Female': [], 'Age Male': [], 'Number Female': [], 'Number Male': []})"
   ]
  },
  {
   "cell_type": "code",
   "execution_count": 106,
   "id": "768e3804",
   "metadata": {},
   "outputs": [
    {
     "name": "stderr",
     "output_type": "stream",
     "text": [
      "C:\\Users\\Ajkuna Seipi\\AppData\\Local\\Temp\\ipykernel_18668\\1140165093.py:17: FutureWarning: The frame.append method is deprecated and will be removed from pandas in a future version. Use pandas.concat instead.\n",
      "  result = result.append(row, ignore_index=True)\n",
      "C:\\Users\\Ajkuna Seipi\\AppData\\Local\\Temp\\ipykernel_18668\\1140165093.py:17: FutureWarning: The frame.append method is deprecated and will be removed from pandas in a future version. Use pandas.concat instead.\n",
      "  result = result.append(row, ignore_index=True)\n",
      "C:\\Users\\Ajkuna Seipi\\AppData\\Local\\Temp\\ipykernel_18668\\1140165093.py:17: FutureWarning: The frame.append method is deprecated and will be removed from pandas in a future version. Use pandas.concat instead.\n",
      "  result = result.append(row, ignore_index=True)\n"
     ]
    }
   ],
   "source": [
    "mask = female['age'] == 19.0\n",
    "df = female[mask]\n",
    "serie = df['age_o'].value_counts()\n",
    "serie = serie.sort_index()\n",
    "arrM = list(serie.index)\n",
    "arrN = list(serie.values)\n",
    "\n",
    "for index, value in enumerate(arrM): \n",
    "    mask2 = female['age_o'] == value\n",
    "    df2 = female[mask2]\n",
    "    serie2 = df2['age'].value_counts()\n",
    "    serie2 = serie2.sort_index()\n",
    "    arrF = list(serie2.index)\n",
    "    arrF2 = list(serie2.values)\n",
    "\n",
    "    row = {'Age Female': 19.0, 'Age Male': value, 'Number Female': arrN[index], 'Number Male': arrF2[0]}\n",
    "    result = result.append(row, ignore_index=True)"
   ]
  },
  {
   "cell_type": "code",
   "execution_count": 131,
   "id": "d6f5e11f",
   "metadata": {},
   "outputs": [
    {
     "name": "stderr",
     "output_type": "stream",
     "text": [
      "C:\\Users\\Ajkuna Seipi\\AppData\\Local\\Temp\\ipykernel_18668\\378470006.py:18: FutureWarning: The frame.append method is deprecated and will be removed from pandas in a future version. Use pandas.concat instead.\n",
      "  result = result.append(row, ignore_index=True)\n",
      "C:\\Users\\Ajkuna Seipi\\AppData\\Local\\Temp\\ipykernel_18668\\378470006.py:18: FutureWarning: The frame.append method is deprecated and will be removed from pandas in a future version. Use pandas.concat instead.\n",
      "  result = result.append(row, ignore_index=True)\n",
      "C:\\Users\\Ajkuna Seipi\\AppData\\Local\\Temp\\ipykernel_18668\\378470006.py:18: FutureWarning: The frame.append method is deprecated and will be removed from pandas in a future version. Use pandas.concat instead.\n",
      "  result = result.append(row, ignore_index=True)\n",
      "C:\\Users\\Ajkuna Seipi\\AppData\\Local\\Temp\\ipykernel_18668\\378470006.py:18: FutureWarning: The frame.append method is deprecated and will be removed from pandas in a future version. Use pandas.concat instead.\n",
      "  result = result.append(row, ignore_index=True)\n",
      "C:\\Users\\Ajkuna Seipi\\AppData\\Local\\Temp\\ipykernel_18668\\378470006.py:18: FutureWarning: The frame.append method is deprecated and will be removed from pandas in a future version. Use pandas.concat instead.\n",
      "  result = result.append(row, ignore_index=True)\n",
      "C:\\Users\\Ajkuna Seipi\\AppData\\Local\\Temp\\ipykernel_18668\\378470006.py:18: FutureWarning: The frame.append method is deprecated and will be removed from pandas in a future version. Use pandas.concat instead.\n",
      "  result = result.append(row, ignore_index=True)\n",
      "C:\\Users\\Ajkuna Seipi\\AppData\\Local\\Temp\\ipykernel_18668\\378470006.py:18: FutureWarning: The frame.append method is deprecated and will be removed from pandas in a future version. Use pandas.concat instead.\n",
      "  result = result.append(row, ignore_index=True)\n",
      "C:\\Users\\Ajkuna Seipi\\AppData\\Local\\Temp\\ipykernel_18668\\378470006.py:18: FutureWarning: The frame.append method is deprecated and will be removed from pandas in a future version. Use pandas.concat instead.\n",
      "  result = result.append(row, ignore_index=True)\n",
      "C:\\Users\\Ajkuna Seipi\\AppData\\Local\\Temp\\ipykernel_18668\\378470006.py:18: FutureWarning: The frame.append method is deprecated and will be removed from pandas in a future version. Use pandas.concat instead.\n",
      "  result = result.append(row, ignore_index=True)\n"
     ]
    },
    {
     "ename": "IndexError",
     "evalue": "list index out of range",
     "output_type": "error",
     "traceback": [
      "\u001b[1;31m---------------------------------------------------------------------------\u001b[0m",
      "\u001b[1;31mIndexError\u001b[0m                                Traceback (most recent call last)",
      "\u001b[1;32m~\\AppData\\Local\\Temp\\ipykernel_18668\\378470006.py\u001b[0m in \u001b[0;36m<module>\u001b[1;34m\u001b[0m\n\u001b[0;32m     15\u001b[0m         \u001b[0marrF2\u001b[0m \u001b[1;33m=\u001b[0m \u001b[0mlist\u001b[0m\u001b[1;33m(\u001b[0m\u001b[0mserie2\u001b[0m\u001b[1;33m.\u001b[0m\u001b[0mvalues\u001b[0m\u001b[1;33m)\u001b[0m\u001b[1;33m\u001b[0m\u001b[1;33m\u001b[0m\u001b[0m\n\u001b[0;32m     16\u001b[0m \u001b[1;33m\u001b[0m\u001b[0m\n\u001b[1;32m---> 17\u001b[1;33m         \u001b[0mrow\u001b[0m \u001b[1;33m=\u001b[0m \u001b[1;33m{\u001b[0m\u001b[1;34m'Age Female'\u001b[0m\u001b[1;33m:\u001b[0m \u001b[1;36m19.0\u001b[0m\u001b[1;33m,\u001b[0m \u001b[1;34m'Age Male'\u001b[0m\u001b[1;33m:\u001b[0m \u001b[0mvalue\u001b[0m\u001b[1;33m,\u001b[0m \u001b[1;34m'Number Female'\u001b[0m\u001b[1;33m:\u001b[0m \u001b[0marrN\u001b[0m\u001b[1;33m[\u001b[0m\u001b[0mindex\u001b[0m\u001b[1;33m]\u001b[0m\u001b[1;33m,\u001b[0m \u001b[1;34m'Number Male'\u001b[0m\u001b[1;33m:\u001b[0m \u001b[0marrF2\u001b[0m\u001b[1;33m[\u001b[0m\u001b[0mind\u001b[0m\u001b[1;33m]\u001b[0m\u001b[1;33m}\u001b[0m\u001b[1;33m\u001b[0m\u001b[1;33m\u001b[0m\u001b[0m\n\u001b[0m\u001b[0;32m     18\u001b[0m         \u001b[0mresult\u001b[0m \u001b[1;33m=\u001b[0m \u001b[0mresult\u001b[0m\u001b[1;33m.\u001b[0m\u001b[0mappend\u001b[0m\u001b[1;33m(\u001b[0m\u001b[0mrow\u001b[0m\u001b[1;33m,\u001b[0m \u001b[0mignore_index\u001b[0m\u001b[1;33m=\u001b[0m\u001b[1;32mTrue\u001b[0m\u001b[1;33m)\u001b[0m\u001b[1;33m\u001b[0m\u001b[1;33m\u001b[0m\u001b[0m\n",
      "\u001b[1;31mIndexError\u001b[0m: list index out of range"
     ]
    }
   ],
   "source": [
    "for ind, val in enumerate(agefin): \n",
    "    mask = female['age'] == 19.0\n",
    "    df = female[mask]\n",
    "    serie = df['age_o'].value_counts()\n",
    "    serie = serie.sort_index()\n",
    "    arrM = list(serie.index)\n",
    "    arrN = list(serie.values)\n",
    "\n",
    "    for index, value in enumerate(arrM): \n",
    "        mask2 = female['age_o'] == value\n",
    "        df2 = female[mask2]\n",
    "        serie2 = df2['age'].value_counts()\n",
    "        serie2 = serie2.sort_index()\n",
    "        arrF = list(serie2.index)\n",
    "        arrF2 = list(serie2.values)\n",
    "\n",
    "        row = {'Age Female': 19.0, 'Age Male': value, 'Number Female': arrN[index], 'Number Male': arrF2[ind]}\n",
    "        result = result.append(row, ignore_index=True)"
   ]
  },
  {
   "cell_type": "code",
   "execution_count": 107,
   "id": "177fc8f5",
   "metadata": {},
   "outputs": [
    {
     "data": {
      "text/html": [
       "<div>\n",
       "<style scoped>\n",
       "    .dataframe tbody tr th:only-of-type {\n",
       "        vertical-align: middle;\n",
       "    }\n",
       "\n",
       "    .dataframe tbody tr th {\n",
       "        vertical-align: top;\n",
       "    }\n",
       "\n",
       "    .dataframe thead th {\n",
       "        text-align: right;\n",
       "    }\n",
       "</style>\n",
       "<table border=\"1\" class=\"dataframe\">\n",
       "  <thead>\n",
       "    <tr style=\"text-align: right;\">\n",
       "      <th></th>\n",
       "      <th>Age Female</th>\n",
       "      <th>Age Male</th>\n",
       "      <th>Number Female</th>\n",
       "      <th>Number Male</th>\n",
       "    </tr>\n",
       "  </thead>\n",
       "  <tbody>\n",
       "    <tr>\n",
       "      <th>0</th>\n",
       "      <td>19.0</td>\n",
       "      <td>20.0</td>\n",
       "      <td>1.0</td>\n",
       "      <td>1.0</td>\n",
       "    </tr>\n",
       "    <tr>\n",
       "      <th>1</th>\n",
       "      <td>19.0</td>\n",
       "      <td>21.0</td>\n",
       "      <td>2.0</td>\n",
       "      <td>2.0</td>\n",
       "    </tr>\n",
       "    <tr>\n",
       "      <th>2</th>\n",
       "      <td>19.0</td>\n",
       "      <td>22.0</td>\n",
       "      <td>1.0</td>\n",
       "      <td>1.0</td>\n",
       "    </tr>\n",
       "  </tbody>\n",
       "</table>\n",
       "</div>"
      ],
      "text/plain": [
       "   Age Female  Age Male  Number Female  Number Male\n",
       "0        19.0      20.0            1.0          1.0\n",
       "1        19.0      21.0            2.0          2.0\n",
       "2        19.0      22.0            1.0          1.0"
      ]
     },
     "execution_count": 107,
     "metadata": {},
     "output_type": "execute_result"
    }
   ],
   "source": [
    "result"
   ]
  },
  {
   "cell_type": "code",
   "execution_count": 108,
   "id": "13d467e9",
   "metadata": {},
   "outputs": [],
   "source": [
    "mask = female['age'] == 19.0\n",
    "df = female[mask]\n",
    "serie = df['age_o'].value_counts()\n",
    "serie = serie.sort_index()\n",
    "arrM = list(serie.index)\n",
    "arrN = list(serie.values)"
   ]
  },
  {
   "cell_type": "code",
   "execution_count": 109,
   "id": "21bb2af2",
   "metadata": {},
   "outputs": [
    {
     "data": {
      "text/plain": [
       "20.0    1\n",
       "21.0    2\n",
       "22.0    1\n",
       "Name: age_o, dtype: int64"
      ]
     },
     "execution_count": 109,
     "metadata": {},
     "output_type": "execute_result"
    }
   ],
   "source": [
    "serie"
   ]
  },
  {
   "cell_type": "code",
   "execution_count": 114,
   "id": "0d4eafd0",
   "metadata": {},
   "outputs": [],
   "source": [
    "mask2 = female['age_o'] == 22.0\n",
    "df2 = female[mask2]\n",
    "serie2 = df2['age'].value_counts()\n",
    "serie2 = serie2.sort_index()\n",
    "arrF = list(serie2.index)\n",
    "arrF2 = list(serie2.values)"
   ]
  },
  {
   "cell_type": "code",
   "execution_count": 115,
   "id": "78abdaba",
   "metadata": {},
   "outputs": [
    {
     "data": {
      "text/plain": [
       "19.0    1\n",
       "20.0    4\n",
       "21.0    4\n",
       "22.0    3\n",
       "23.0    4\n",
       "24.0    2\n",
       "25.0    2\n",
       "26.0    4\n",
       "27.0    1\n",
       "28.0    1\n",
       "29.0    1\n",
       "Name: age, dtype: int64"
      ]
     },
     "execution_count": 115,
     "metadata": {},
     "output_type": "execute_result"
    }
   ],
   "source": [
    "serie2"
   ]
  },
  {
   "cell_type": "code",
   "execution_count": 102,
   "id": "eeda88c3",
   "metadata": {},
   "outputs": [
    {
     "data": {
      "text/plain": [
       "21.0    6\n",
       "20.0    5\n",
       "22.0    3\n",
       "23.0    2\n",
       "26.0    2\n",
       "25.0    2\n",
       "19.0    2\n",
       "27.0    1\n",
       "28.0    1\n",
       "34.0    1\n",
       "35.0    1\n",
       "30.0    1\n",
       "29.0    1\n",
       "Name: age, dtype: int64"
      ]
     },
     "execution_count": 102,
     "metadata": {},
     "output_type": "execute_result"
    }
   ],
   "source": [
    "serie2"
   ]
  },
  {
   "cell_type": "code",
   "execution_count": 17,
   "id": "6ed93b39",
   "metadata": {},
   "outputs": [],
   "source": [
    "profiles = pd.read_csv('data/profiles.csv')"
   ]
  },
  {
   "cell_type": "code",
   "execution_count": 18,
   "id": "8431a035",
   "metadata": {},
   "outputs": [],
   "source": [
    "people = pd.read_csv('data/people.csv')"
   ]
  },
  {
   "cell_type": "code",
   "execution_count": 19,
   "id": "da4bdc5d",
   "metadata": {},
   "outputs": [],
   "source": [
    "women_idx = people[people.gender=='female'].index\n",
    "men_idx = people[people.gender=='male'].index"
   ]
  },
  {
   "cell_type": "code",
   "execution_count": 20,
   "id": "d7894661",
   "metadata": {},
   "outputs": [],
   "source": [
    "plt_women = pd.DataFrame(profiles.loc[women_idx].mean(), columns=['avg_score'])\n",
    "plt_men = pd.DataFrame(profiles.loc[men_idx].mean(), columns=['avg_score'])"
   ]
  },
  {
   "cell_type": "code",
   "execution_count": 21,
   "id": "16ab7890",
   "metadata": {},
   "outputs": [
    {
     "data": {
      "text/html": [
       "<div>\n",
       "<style scoped>\n",
       "    .dataframe tbody tr th:only-of-type {\n",
       "        vertical-align: middle;\n",
       "    }\n",
       "\n",
       "    .dataframe tbody tr th {\n",
       "        vertical-align: top;\n",
       "    }\n",
       "\n",
       "    .dataframe thead th {\n",
       "        text-align: right;\n",
       "    }\n",
       "</style>\n",
       "<table border=\"1\" class=\"dataframe\">\n",
       "  <thead>\n",
       "    <tr style=\"text-align: right;\">\n",
       "      <th></th>\n",
       "      <th>index</th>\n",
       "      <th>avg_score</th>\n",
       "    </tr>\n",
       "  </thead>\n",
       "  <tbody>\n",
       "    <tr>\n",
       "      <th>0</th>\n",
       "      <td>Unnamed: 0</td>\n",
       "      <td>4399.229592</td>\n",
       "    </tr>\n",
       "    <tr>\n",
       "      <th>1</th>\n",
       "      <td>sports</td>\n",
       "      <td>5.494898</td>\n",
       "    </tr>\n",
       "    <tr>\n",
       "      <th>2</th>\n",
       "      <td>museums</td>\n",
       "      <td>7.454082</td>\n",
       "    </tr>\n",
       "    <tr>\n",
       "      <th>3</th>\n",
       "      <td>tvsports</td>\n",
       "      <td>4.005102</td>\n",
       "    </tr>\n",
       "    <tr>\n",
       "      <th>4</th>\n",
       "      <td>exercise</td>\n",
       "      <td>6.224490</td>\n",
       "    </tr>\n",
       "  </tbody>\n",
       "</table>\n",
       "</div>"
      ],
      "text/plain": [
       "        index    avg_score\n",
       "0  Unnamed: 0  4399.229592\n",
       "1      sports     5.494898\n",
       "2     museums     7.454082\n",
       "3    tvsports     4.005102\n",
       "4    exercise     6.224490"
      ]
     },
     "execution_count": 21,
     "metadata": {},
     "output_type": "execute_result"
    }
   ],
   "source": [
    "plt_women.head().reset_index()"
   ]
  },
  {
   "cell_type": "code",
   "execution_count": 22,
   "id": "91cc5bfc",
   "metadata": {},
   "outputs": [
    {
     "data": {
      "text/plain": [
       "18"
      ]
     },
     "execution_count": 22,
     "metadata": {},
     "output_type": "execute_result"
    }
   ],
   "source": [
    "len(plt_women)"
   ]
  },
  {
   "cell_type": "code",
   "execution_count": 23,
   "id": "bf9a3467",
   "metadata": {},
   "outputs": [
    {
     "data": {
      "text/plain": [
       "18"
      ]
     },
     "execution_count": 23,
     "metadata": {},
     "output_type": "execute_result"
    }
   ],
   "source": [
    "len(plt_men)"
   ]
  },
  {
   "cell_type": "code",
   "execution_count": 24,
   "id": "2e87f74a",
   "metadata": {},
   "outputs": [
    {
     "data": {
      "text/html": [
       "<div>\n",
       "<style scoped>\n",
       "    .dataframe tbody tr th:only-of-type {\n",
       "        vertical-align: middle;\n",
       "    }\n",
       "\n",
       "    .dataframe tbody tr th {\n",
       "        vertical-align: top;\n",
       "    }\n",
       "\n",
       "    .dataframe thead th {\n",
       "        text-align: right;\n",
       "    }\n",
       "</style>\n",
       "<table border=\"1\" class=\"dataframe\">\n",
       "  <thead>\n",
       "    <tr style=\"text-align: right;\">\n",
       "      <th></th>\n",
       "      <th>index</th>\n",
       "      <th>avg_score</th>\n",
       "    </tr>\n",
       "  </thead>\n",
       "  <tbody>\n",
       "    <tr>\n",
       "      <th>0</th>\n",
       "      <td>Unnamed: 0</td>\n",
       "      <td>4602.966346</td>\n",
       "    </tr>\n",
       "    <tr>\n",
       "      <th>1</th>\n",
       "      <td>sports</td>\n",
       "      <td>7.168269</td>\n",
       "    </tr>\n",
       "    <tr>\n",
       "      <th>2</th>\n",
       "      <td>museums</td>\n",
       "      <td>6.480769</td>\n",
       "    </tr>\n",
       "    <tr>\n",
       "      <th>3</th>\n",
       "      <td>tvsports</td>\n",
       "      <td>5.076923</td>\n",
       "    </tr>\n",
       "    <tr>\n",
       "      <th>4</th>\n",
       "      <td>exercise</td>\n",
       "      <td>6.168269</td>\n",
       "    </tr>\n",
       "  </tbody>\n",
       "</table>\n",
       "</div>"
      ],
      "text/plain": [
       "        index    avg_score\n",
       "0  Unnamed: 0  4602.966346\n",
       "1      sports     7.168269\n",
       "2     museums     6.480769\n",
       "3    tvsports     5.076923\n",
       "4    exercise     6.168269"
      ]
     },
     "execution_count": 24,
     "metadata": {},
     "output_type": "execute_result"
    }
   ],
   "source": [
    "plt_men.head().reset_index()"
   ]
  },
  {
   "cell_type": "code",
   "execution_count": 25,
   "id": "f7aa653f",
   "metadata": {},
   "outputs": [],
   "source": [
    "plt_men = plt_men.iloc[1:]"
   ]
  },
  {
   "cell_type": "code",
   "execution_count": 26,
   "id": "d7920efa",
   "metadata": {},
   "outputs": [
    {
     "data": {
      "text/html": [
       "<div>\n",
       "<style scoped>\n",
       "    .dataframe tbody tr th:only-of-type {\n",
       "        vertical-align: middle;\n",
       "    }\n",
       "\n",
       "    .dataframe tbody tr th {\n",
       "        vertical-align: top;\n",
       "    }\n",
       "\n",
       "    .dataframe thead th {\n",
       "        text-align: right;\n",
       "    }\n",
       "</style>\n",
       "<table border=\"1\" class=\"dataframe\">\n",
       "  <thead>\n",
       "    <tr style=\"text-align: right;\">\n",
       "      <th></th>\n",
       "      <th>avg_score</th>\n",
       "    </tr>\n",
       "  </thead>\n",
       "  <tbody>\n",
       "    <tr>\n",
       "      <th>sports</th>\n",
       "      <td>7.168269</td>\n",
       "    </tr>\n",
       "    <tr>\n",
       "      <th>museums</th>\n",
       "      <td>6.480769</td>\n",
       "    </tr>\n",
       "    <tr>\n",
       "      <th>tvsports</th>\n",
       "      <td>5.076923</td>\n",
       "    </tr>\n",
       "    <tr>\n",
       "      <th>exercise</th>\n",
       "      <td>6.168269</td>\n",
       "    </tr>\n",
       "    <tr>\n",
       "      <th>dining</th>\n",
       "      <td>7.399038</td>\n",
       "    </tr>\n",
       "    <tr>\n",
       "      <th>art</th>\n",
       "      <td>6.153846</td>\n",
       "    </tr>\n",
       "    <tr>\n",
       "      <th>hiking</th>\n",
       "      <td>5.519231</td>\n",
       "    </tr>\n",
       "    <tr>\n",
       "      <th>gaming</th>\n",
       "      <td>4.557692</td>\n",
       "    </tr>\n",
       "    <tr>\n",
       "      <th>clubbing</th>\n",
       "      <td>5.600962</td>\n",
       "    </tr>\n",
       "    <tr>\n",
       "      <th>reading</th>\n",
       "      <td>7.302885</td>\n",
       "    </tr>\n",
       "    <tr>\n",
       "      <th>tv</th>\n",
       "      <td>4.937500</td>\n",
       "    </tr>\n",
       "    <tr>\n",
       "      <th>theater</th>\n",
       "      <td>6.038462</td>\n",
       "    </tr>\n",
       "    <tr>\n",
       "      <th>movies</th>\n",
       "      <td>7.668269</td>\n",
       "    </tr>\n",
       "    <tr>\n",
       "      <th>concerts</th>\n",
       "      <td>6.591346</td>\n",
       "    </tr>\n",
       "    <tr>\n",
       "      <th>shopping</th>\n",
       "      <td>4.884615</td>\n",
       "    </tr>\n",
       "    <tr>\n",
       "      <th>music</th>\n",
       "      <td>7.668269</td>\n",
       "    </tr>\n",
       "    <tr>\n",
       "      <th>yoga</th>\n",
       "      <td>3.764423</td>\n",
       "    </tr>\n",
       "  </tbody>\n",
       "</table>\n",
       "</div>"
      ],
      "text/plain": [
       "          avg_score\n",
       "sports     7.168269\n",
       "museums    6.480769\n",
       "tvsports   5.076923\n",
       "exercise   6.168269\n",
       "dining     7.399038\n",
       "art        6.153846\n",
       "hiking     5.519231\n",
       "gaming     4.557692\n",
       "clubbing   5.600962\n",
       "reading    7.302885\n",
       "tv         4.937500\n",
       "theater    6.038462\n",
       "movies     7.668269\n",
       "concerts   6.591346\n",
       "shopping   4.884615\n",
       "music      7.668269\n",
       "yoga       3.764423"
      ]
     },
     "execution_count": 26,
     "metadata": {},
     "output_type": "execute_result"
    }
   ],
   "source": [
    "plt_men"
   ]
  },
  {
   "cell_type": "code",
   "execution_count": 27,
   "id": "dd79cd1c",
   "metadata": {},
   "outputs": [],
   "source": [
    "plt_women = plt_women.iloc[1:]"
   ]
  },
  {
   "cell_type": "code",
   "execution_count": 28,
   "id": "5d4095ea",
   "metadata": {},
   "outputs": [
    {
     "data": {
      "text/html": [
       "<div>\n",
       "<style scoped>\n",
       "    .dataframe tbody tr th:only-of-type {\n",
       "        vertical-align: middle;\n",
       "    }\n",
       "\n",
       "    .dataframe tbody tr th {\n",
       "        vertical-align: top;\n",
       "    }\n",
       "\n",
       "    .dataframe thead th {\n",
       "        text-align: right;\n",
       "    }\n",
       "</style>\n",
       "<table border=\"1\" class=\"dataframe\">\n",
       "  <thead>\n",
       "    <tr style=\"text-align: right;\">\n",
       "      <th></th>\n",
       "      <th>avg_score</th>\n",
       "    </tr>\n",
       "  </thead>\n",
       "  <tbody>\n",
       "    <tr>\n",
       "      <th>sports</th>\n",
       "      <td>5.494898</td>\n",
       "    </tr>\n",
       "    <tr>\n",
       "      <th>museums</th>\n",
       "      <td>7.454082</td>\n",
       "    </tr>\n",
       "    <tr>\n",
       "      <th>tvsports</th>\n",
       "      <td>4.005102</td>\n",
       "    </tr>\n",
       "    <tr>\n",
       "      <th>exercise</th>\n",
       "      <td>6.224490</td>\n",
       "    </tr>\n",
       "    <tr>\n",
       "      <th>dining</th>\n",
       "      <td>8.198980</td>\n",
       "    </tr>\n",
       "    <tr>\n",
       "      <th>art</th>\n",
       "      <td>7.255102</td>\n",
       "    </tr>\n",
       "    <tr>\n",
       "      <th>hiking</th>\n",
       "      <td>5.928571</td>\n",
       "    </tr>\n",
       "    <tr>\n",
       "      <th>gaming</th>\n",
       "      <td>3.081633</td>\n",
       "    </tr>\n",
       "    <tr>\n",
       "      <th>clubbing</th>\n",
       "      <td>5.872449</td>\n",
       "    </tr>\n",
       "    <tr>\n",
       "      <th>reading</th>\n",
       "      <td>7.892857</td>\n",
       "    </tr>\n",
       "    <tr>\n",
       "      <th>tv</th>\n",
       "      <td>5.658163</td>\n",
       "    </tr>\n",
       "    <tr>\n",
       "      <th>theater</th>\n",
       "      <td>7.540816</td>\n",
       "    </tr>\n",
       "    <tr>\n",
       "      <th>movies</th>\n",
       "      <td>8.178571</td>\n",
       "    </tr>\n",
       "    <tr>\n",
       "      <th>concerts</th>\n",
       "      <td>7.229592</td>\n",
       "    </tr>\n",
       "    <tr>\n",
       "      <th>shopping</th>\n",
       "      <td>6.423469</td>\n",
       "    </tr>\n",
       "    <tr>\n",
       "      <th>music</th>\n",
       "      <td>8.035714</td>\n",
       "    </tr>\n",
       "    <tr>\n",
       "      <th>yoga</th>\n",
       "      <td>5.096939</td>\n",
       "    </tr>\n",
       "  </tbody>\n",
       "</table>\n",
       "</div>"
      ],
      "text/plain": [
       "          avg_score\n",
       "sports     5.494898\n",
       "museums    7.454082\n",
       "tvsports   4.005102\n",
       "exercise   6.224490\n",
       "dining     8.198980\n",
       "art        7.255102\n",
       "hiking     5.928571\n",
       "gaming     3.081633\n",
       "clubbing   5.872449\n",
       "reading    7.892857\n",
       "tv         5.658163\n",
       "theater    7.540816\n",
       "movies     8.178571\n",
       "concerts   7.229592\n",
       "shopping   6.423469\n",
       "music      8.035714\n",
       "yoga       5.096939"
      ]
     },
     "execution_count": 28,
     "metadata": {},
     "output_type": "execute_result"
    }
   ],
   "source": [
    "plt_women"
   ]
  },
  {
   "cell_type": "code",
   "execution_count": 29,
   "id": "4fb6e6bc",
   "metadata": {},
   "outputs": [
    {
     "data": {
      "text/plain": [
       "Index(['avg_score'], dtype='object')"
      ]
     },
     "execution_count": 29,
     "metadata": {},
     "output_type": "execute_result"
    }
   ],
   "source": [
    "plt_women.columns"
   ]
  },
  {
   "cell_type": "code",
   "execution_count": 30,
   "id": "a40f7768",
   "metadata": {},
   "outputs": [
    {
     "data": {
      "text/plain": [
       "Index(['Unnamed: 0', 'sports', 'museums', 'tvsports', 'exercise', 'dining',\n",
       "       'art', 'hiking', 'gaming', 'clubbing', 'reading', 'tv', 'theater',\n",
       "       'movies', 'concerts', 'shopping', 'music', 'yoga'],\n",
       "      dtype='object')"
      ]
     },
     "execution_count": 30,
     "metadata": {},
     "output_type": "execute_result"
    }
   ],
   "source": [
    "profiles.columns"
   ]
  },
  {
   "cell_type": "code",
   "execution_count": 31,
   "id": "d98e3886",
   "metadata": {},
   "outputs": [],
   "source": [
    "interests = ['sports', 'museums', 'tvsports', 'exercise', 'dining',\n",
    "       'art', 'hiking', 'gaming', 'clubbing', 'reading', 'tv', 'theater',\n",
    "       'movies', 'concerts', 'shopping', 'music', 'yoga']"
   ]
  },
  {
   "cell_type": "code",
   "execution_count": 32,
   "id": "e6971d6b",
   "metadata": {},
   "outputs": [],
   "source": [
    "female = list(plt_women['avg_score'])"
   ]
  },
  {
   "cell_type": "code",
   "execution_count": 33,
   "id": "dbfc58c8",
   "metadata": {},
   "outputs": [
    {
     "data": {
      "text/plain": [
       "[5.494897959183674,\n",
       " 7.454081632653061,\n",
       " 4.005102040816326,\n",
       " 6.224489795918367,\n",
       " 8.198979591836734,\n",
       " 7.255102040816326,\n",
       " 5.928571428571429,\n",
       " 3.0816326530612246,\n",
       " 5.872448979591836,\n",
       " 7.892857142857143,\n",
       " 5.658163265306122,\n",
       " 7.540816326530612,\n",
       " 8.178571428571429,\n",
       " 7.229591836734694,\n",
       " 6.423469387755102,\n",
       " 8.035714285714286,\n",
       " 5.096938775510204]"
      ]
     },
     "execution_count": 33,
     "metadata": {},
     "output_type": "execute_result"
    }
   ],
   "source": [
    "female "
   ]
  },
  {
   "cell_type": "code",
   "execution_count": 34,
   "id": "c11de5fb",
   "metadata": {},
   "outputs": [],
   "source": [
    "man = list(plt_men['avg_score'])"
   ]
  },
  {
   "cell_type": "code",
   "execution_count": 35,
   "id": "cdb8d5ce",
   "metadata": {},
   "outputs": [
    {
     "data": {
      "text/plain": [
       "[7.168269230769231,\n",
       " 6.480769230769231,\n",
       " 5.076923076923077,\n",
       " 6.168269230769231,\n",
       " 7.399038461538462,\n",
       " 6.153846153846154,\n",
       " 5.519230769230769,\n",
       " 4.5576923076923075,\n",
       " 5.600961538461538,\n",
       " 7.302884615384615,\n",
       " 4.9375,\n",
       " 6.038461538461538,\n",
       " 7.668269230769231,\n",
       " 6.591346153846154,\n",
       " 4.884615384615385,\n",
       " 7.668269230769231,\n",
       " 3.764423076923077]"
      ]
     },
     "execution_count": 35,
     "metadata": {},
     "output_type": "execute_result"
    }
   ],
   "source": [
    "man"
   ]
  },
  {
   "cell_type": "code",
   "execution_count": 36,
   "id": "29f97615",
   "metadata": {},
   "outputs": [],
   "source": [
    "df = pd.DataFrame({'interests': interests, 'female': female, 'male': man})"
   ]
  },
  {
   "cell_type": "code",
   "execution_count": 37,
   "id": "f0955860",
   "metadata": {},
   "outputs": [],
   "source": [
    "df.to_csv('data/average_interests.csv', index=False)"
   ]
  },
  {
   "cell_type": "code",
   "execution_count": null,
   "id": "81cc4036",
   "metadata": {},
   "outputs": [],
   "source": []
  }
 ],
 "metadata": {
  "kernelspec": {
   "display_name": "Python 3 (ipykernel)",
   "language": "python",
   "name": "python3"
  },
  "language_info": {
   "codemirror_mode": {
    "name": "ipython",
    "version": 3
   },
   "file_extension": ".py",
   "mimetype": "text/x-python",
   "name": "python",
   "nbconvert_exporter": "python",
   "pygments_lexer": "ipython3",
   "version": "3.9.13"
  }
 },
 "nbformat": 4,
 "nbformat_minor": 5
}
